{
 "cells": [
  {
   "cell_type": "code",
   "execution_count": 1,
   "metadata": {},
   "outputs": [],
   "source": [
    "import pandas as pd\n",
    "import numpy as np\n",
    "import scipy.stats as stats"
   ]
  },
  {
   "cell_type": "code",
   "execution_count": 2,
   "metadata": {},
   "outputs": [
    {
     "output_type": "execute_result",
     "data": {
      "text/plain": "     Unnamed: 0 Index Sex  CHI611  MATH611  ENG611  CHI612  MATH612  ENG612  \\\n0             1   A01   F    75.0     83.0    95.0    77.0     95.0    96.0   \n1             2   A02   F    88.0    100.0    90.0    88.0    100.0    95.0   \n2             3   A03   F    85.0     97.0    91.0    87.0     96.0    97.0   \n3             4   A04   F    83.0     97.0    97.0    83.0     94.0    97.0   \n4             5   A05   F    81.0     89.0    94.0    84.0     89.0    90.0   \n..          ...   ...  ..     ...      ...     ...     ...      ...     ...   \n238         239   G26   M    41.0     43.0    57.0    51.0     63.0    69.0   \n239         240   G27   M    70.0     80.0    77.0    69.0     75.0    77.0   \n240         241   G28   M    69.0     81.0    53.0    62.0     69.0    50.0   \n241         242   G29   M    59.0     12.0    62.0    57.0      9.0    54.0   \n242         243   G30   M    66.0     56.0    72.0    70.0     62.0    70.0   \n\n     CHI621  ...  CHI912  MATH912  ENG912  PHY912  CHE912  CHI921  MATH921  \\\n0      89.0  ...   130.0    134.0   136.5    88.0    94.0   120.0    137.0   \n1      91.0  ...   132.0    146.0   142.0    97.0    96.0   134.0    138.0   \n2      93.0  ...   132.0    146.0   144.5    96.0    95.0   134.0    145.0   \n3      86.0  ...   133.0    129.0   142.0    84.0    94.0   121.0    136.0   \n4      86.0  ...   127.0    137.0   136.0    87.0    92.0   124.0    140.0   \n..      ...  ...     ...      ...     ...     ...     ...     ...      ...   \n238    69.0  ...    69.0     54.0    65.0    57.0    74.0    54.0     68.0   \n239    76.0  ...   119.0    133.0   123.0    88.0    86.0   112.0    114.0   \n240    72.0  ...     NaN      NaN     NaN     NaN     NaN     NaN      NaN   \n241    48.0  ...    89.0     10.0    58.0    30.0    25.0    78.0     26.0   \n242    71.0  ...    85.0     85.0   110.5    68.0    88.0   102.0    103.0   \n\n     ENG921  PHY921  CHE921  \n0     140.0    79.0    57.0  \n1     145.5    84.0    57.0  \n2     146.0    86.0    57.0  \n3     140.0    83.0    53.0  \n4     128.0    79.0    54.0  \n..      ...     ...     ...  \n238    74.0    41.0    42.0  \n239   134.5    74.0    52.0  \n240     NaN     NaN     NaN  \n241    77.5    29.0     9.0  \n242   123.5    68.0    50.0  \n\n[243 rows x 58 columns]",
      "text/html": "<div>\n<style scoped>\n    .dataframe tbody tr th:only-of-type {\n        vertical-align: middle;\n    }\n\n    .dataframe tbody tr th {\n        vertical-align: top;\n    }\n\n    .dataframe thead th {\n        text-align: right;\n    }\n</style>\n<table border=\"1\" class=\"dataframe\">\n  <thead>\n    <tr style=\"text-align: right;\">\n      <th></th>\n      <th>Unnamed: 0</th>\n      <th>Index</th>\n      <th>Sex</th>\n      <th>CHI611</th>\n      <th>MATH611</th>\n      <th>ENG611</th>\n      <th>CHI612</th>\n      <th>MATH612</th>\n      <th>ENG612</th>\n      <th>CHI621</th>\n      <th>...</th>\n      <th>CHI912</th>\n      <th>MATH912</th>\n      <th>ENG912</th>\n      <th>PHY912</th>\n      <th>CHE912</th>\n      <th>CHI921</th>\n      <th>MATH921</th>\n      <th>ENG921</th>\n      <th>PHY921</th>\n      <th>CHE921</th>\n    </tr>\n  </thead>\n  <tbody>\n    <tr>\n      <th>0</th>\n      <td>1</td>\n      <td>A01</td>\n      <td>F</td>\n      <td>75.0</td>\n      <td>83.0</td>\n      <td>95.0</td>\n      <td>77.0</td>\n      <td>95.0</td>\n      <td>96.0</td>\n      <td>89.0</td>\n      <td>...</td>\n      <td>130.0</td>\n      <td>134.0</td>\n      <td>136.5</td>\n      <td>88.0</td>\n      <td>94.0</td>\n      <td>120.0</td>\n      <td>137.0</td>\n      <td>140.0</td>\n      <td>79.0</td>\n      <td>57.0</td>\n    </tr>\n    <tr>\n      <th>1</th>\n      <td>2</td>\n      <td>A02</td>\n      <td>F</td>\n      <td>88.0</td>\n      <td>100.0</td>\n      <td>90.0</td>\n      <td>88.0</td>\n      <td>100.0</td>\n      <td>95.0</td>\n      <td>91.0</td>\n      <td>...</td>\n      <td>132.0</td>\n      <td>146.0</td>\n      <td>142.0</td>\n      <td>97.0</td>\n      <td>96.0</td>\n      <td>134.0</td>\n      <td>138.0</td>\n      <td>145.5</td>\n      <td>84.0</td>\n      <td>57.0</td>\n    </tr>\n    <tr>\n      <th>2</th>\n      <td>3</td>\n      <td>A03</td>\n      <td>F</td>\n      <td>85.0</td>\n      <td>97.0</td>\n      <td>91.0</td>\n      <td>87.0</td>\n      <td>96.0</td>\n      <td>97.0</td>\n      <td>93.0</td>\n      <td>...</td>\n      <td>132.0</td>\n      <td>146.0</td>\n      <td>144.5</td>\n      <td>96.0</td>\n      <td>95.0</td>\n      <td>134.0</td>\n      <td>145.0</td>\n      <td>146.0</td>\n      <td>86.0</td>\n      <td>57.0</td>\n    </tr>\n    <tr>\n      <th>3</th>\n      <td>4</td>\n      <td>A04</td>\n      <td>F</td>\n      <td>83.0</td>\n      <td>97.0</td>\n      <td>97.0</td>\n      <td>83.0</td>\n      <td>94.0</td>\n      <td>97.0</td>\n      <td>86.0</td>\n      <td>...</td>\n      <td>133.0</td>\n      <td>129.0</td>\n      <td>142.0</td>\n      <td>84.0</td>\n      <td>94.0</td>\n      <td>121.0</td>\n      <td>136.0</td>\n      <td>140.0</td>\n      <td>83.0</td>\n      <td>53.0</td>\n    </tr>\n    <tr>\n      <th>4</th>\n      <td>5</td>\n      <td>A05</td>\n      <td>F</td>\n      <td>81.0</td>\n      <td>89.0</td>\n      <td>94.0</td>\n      <td>84.0</td>\n      <td>89.0</td>\n      <td>90.0</td>\n      <td>86.0</td>\n      <td>...</td>\n      <td>127.0</td>\n      <td>137.0</td>\n      <td>136.0</td>\n      <td>87.0</td>\n      <td>92.0</td>\n      <td>124.0</td>\n      <td>140.0</td>\n      <td>128.0</td>\n      <td>79.0</td>\n      <td>54.0</td>\n    </tr>\n    <tr>\n      <th>...</th>\n      <td>...</td>\n      <td>...</td>\n      <td>...</td>\n      <td>...</td>\n      <td>...</td>\n      <td>...</td>\n      <td>...</td>\n      <td>...</td>\n      <td>...</td>\n      <td>...</td>\n      <td>...</td>\n      <td>...</td>\n      <td>...</td>\n      <td>...</td>\n      <td>...</td>\n      <td>...</td>\n      <td>...</td>\n      <td>...</td>\n      <td>...</td>\n      <td>...</td>\n      <td>...</td>\n    </tr>\n    <tr>\n      <th>238</th>\n      <td>239</td>\n      <td>G26</td>\n      <td>M</td>\n      <td>41.0</td>\n      <td>43.0</td>\n      <td>57.0</td>\n      <td>51.0</td>\n      <td>63.0</td>\n      <td>69.0</td>\n      <td>69.0</td>\n      <td>...</td>\n      <td>69.0</td>\n      <td>54.0</td>\n      <td>65.0</td>\n      <td>57.0</td>\n      <td>74.0</td>\n      <td>54.0</td>\n      <td>68.0</td>\n      <td>74.0</td>\n      <td>41.0</td>\n      <td>42.0</td>\n    </tr>\n    <tr>\n      <th>239</th>\n      <td>240</td>\n      <td>G27</td>\n      <td>M</td>\n      <td>70.0</td>\n      <td>80.0</td>\n      <td>77.0</td>\n      <td>69.0</td>\n      <td>75.0</td>\n      <td>77.0</td>\n      <td>76.0</td>\n      <td>...</td>\n      <td>119.0</td>\n      <td>133.0</td>\n      <td>123.0</td>\n      <td>88.0</td>\n      <td>86.0</td>\n      <td>112.0</td>\n      <td>114.0</td>\n      <td>134.5</td>\n      <td>74.0</td>\n      <td>52.0</td>\n    </tr>\n    <tr>\n      <th>240</th>\n      <td>241</td>\n      <td>G28</td>\n      <td>M</td>\n      <td>69.0</td>\n      <td>81.0</td>\n      <td>53.0</td>\n      <td>62.0</td>\n      <td>69.0</td>\n      <td>50.0</td>\n      <td>72.0</td>\n      <td>...</td>\n      <td>NaN</td>\n      <td>NaN</td>\n      <td>NaN</td>\n      <td>NaN</td>\n      <td>NaN</td>\n      <td>NaN</td>\n      <td>NaN</td>\n      <td>NaN</td>\n      <td>NaN</td>\n      <td>NaN</td>\n    </tr>\n    <tr>\n      <th>241</th>\n      <td>242</td>\n      <td>G29</td>\n      <td>M</td>\n      <td>59.0</td>\n      <td>12.0</td>\n      <td>62.0</td>\n      <td>57.0</td>\n      <td>9.0</td>\n      <td>54.0</td>\n      <td>48.0</td>\n      <td>...</td>\n      <td>89.0</td>\n      <td>10.0</td>\n      <td>58.0</td>\n      <td>30.0</td>\n      <td>25.0</td>\n      <td>78.0</td>\n      <td>26.0</td>\n      <td>77.5</td>\n      <td>29.0</td>\n      <td>9.0</td>\n    </tr>\n    <tr>\n      <th>242</th>\n      <td>243</td>\n      <td>G30</td>\n      <td>M</td>\n      <td>66.0</td>\n      <td>56.0</td>\n      <td>72.0</td>\n      <td>70.0</td>\n      <td>62.0</td>\n      <td>70.0</td>\n      <td>71.0</td>\n      <td>...</td>\n      <td>85.0</td>\n      <td>85.0</td>\n      <td>110.5</td>\n      <td>68.0</td>\n      <td>88.0</td>\n      <td>102.0</td>\n      <td>103.0</td>\n      <td>123.5</td>\n      <td>68.0</td>\n      <td>50.0</td>\n    </tr>\n  </tbody>\n</table>\n<p>243 rows × 58 columns</p>\n</div>"
     },
     "metadata": {},
     "execution_count": 2
    }
   ],
   "source": [
    "data=pd.read_csv(\"Score.csv\")\n",
    "data"
   ]
  },
  {
   "cell_type": "code",
   "execution_count": 3,
   "metadata": {
    "tags": []
   },
   "outputs": [
    {
     "output_type": "execute_result",
     "data": {
      "text/plain": "array(['CHI611', 'MATH611', 'ENG611', 'CHI612', 'MATH612', 'ENG612',\n       'CHI621', 'MATH621', 'ENG621', 'CHI622', 'MATH622', 'ENG622',\n       'CHI711', 'MATH711', 'ENG711', 'CHI712', 'MATH712', 'ENG712',\n       'CHI721', 'MATH721', 'ENG721', 'CHI722', 'MATH722', 'ENG722',\n       'CHI811', 'MATH811', 'ENG811', 'PHY811', 'CHI812', 'MATH812',\n       'ENG812', 'PHY812', 'CHI821', 'MATH821', 'ENG821', 'PHY821',\n       'CHI822', 'MATH822', 'ENG822', 'PHY822', 'CHI911', 'MATH911',\n       'ENG911', 'PHY911', 'CHE911', 'CHI912', 'MATH912', 'ENG912',\n       'PHY912', 'CHE912', 'CHI921', 'MATH921', 'ENG921', 'PHY921',\n       'CHE921'], dtype=object)"
     },
     "metadata": {},
     "execution_count": 3
    }
   ],
   "source": [
    "col=np.array(data.columns)\n",
    "col=np.delete(col,range(3))\n",
    "col"
   ]
  },
  {
   "cell_type": "code",
   "execution_count": 4,
   "metadata": {
    "tags": []
   },
   "outputs": [],
   "source": [
    "maxScore1=[100 for i in range(36)]\n",
    "maxScore2=[150,150,150,100,150,150,150,100,60,150,150,150,100,100,150,150,150,90,60]\n",
    "maxScore=maxScore1+maxScore2"
   ]
  },
  {
   "cell_type": "code",
   "execution_count": 5,
   "metadata": {},
   "outputs": [],
   "source": [
    "transDataDict={}\n",
    "for i in range(55):\n",
    "    d=(data[col[i]]-np.mean(data[col[i]]))/maxScore[i]\n",
    "    transDataDict[col[i]]=d\n",
    "transData=pd.DataFrame.from_dict(transDataDict)\n",
    "del transDataDict"
   ]
  },
  {
   "cell_type": "code",
   "execution_count": 6,
   "metadata": {},
   "outputs": [],
   "source": [
    "mergeData=transData.apply(lambda x:[x['CHI611'],x['CHI612'],x['CHI621'],x['CHI622'],\n",
    "x['CHI711'],x['CHI712'],x['CHI721'],x['CHI722'],\n",
    "x['CHI811'],x['CHI812'],x['CHI821'],x['CHI822'],\n",
    "x['CHI911'],x['CHI912'],x['CHI921']],axis=1)\n",
    "mergeData=pd.DataFrame(mergeData,columns=['CHI'])\n",
    "mergeData['CHINoNan']=mergeData['CHI'].apply(lambda x:[i for i in x if not np.isnan(i)])\n",
    "mergeData['CHILen']=mergeData['CHINoNan'].apply(lambda x:len(x))"
   ]
  },
  {
   "cell_type": "code",
   "execution_count": 7,
   "metadata": {},
   "outputs": [],
   "source": [
    "def merge(x,col):\n",
    "    if col in ['MATH','ENG']:\n",
    "        x[col]=transData.apply(lambda x:[x[col+'611'],x[col+'612'],x[col+'621'],x[col+'622'],\n",
    "        x[col+'711'],x[col+'712'],x[col+'721'],x[col+'722'],\n",
    "        x[col+'811'],x[col+'812'],x[col+'821'],x[col+'822'],\n",
    "        x[col+'911'],x[col+'912'],x[col+'921']],axis=1)\n",
    "    elif col == 'PHY':\n",
    "        x[col]=transData.apply(lambda x:[x[col+'811'],x[col+'812'],x[col+'821'],x[col+'822'],\n",
    "        x[col+'911'],x[col+'912'],x[col+'921']],axis=1)\n",
    "    elif col == 'CHE':\n",
    "        x[col]=transData.apply(lambda x:[x[col+'911'],x[col+'912'],x[col+'921']],axis=1)\n",
    "def NoNan(x,col):\n",
    "    x[col+'NoNan']=x[col].apply(lambda x:[i for i in x if not np.isnan(i)])\n",
    "    x[col+'Len']=x[col+'NoNan'].apply(lambda x:len(x))\n",
    "for i in ['MATH','ENG','PHY','CHE']:\n",
    "    merge(mergeData,i)\n",
    "    NoNan(mergeData,i)"
   ]
  },
  {
   "cell_type": "code",
   "execution_count": 23,
   "metadata": {
    "tags": []
   },
   "outputs": [],
   "source": [
    "def normTest(x,col):\n",
    "    if x[col+'Len']>=3:\n",
    "        return stats.shapiro(x[col+'NoNan'])\n",
    "    else:\n",
    "        return (-1,-1)\n",
    "def normTest(x,col):\n",
    "    if x[col+'Len']>=3:\n",
    "        return stats.shapiro(x[col+'NoNan'])\n",
    "    else:\n",
    "        return (-1,-1)\n",
    "\n",
    "for i in ['CHI','MATH','ENG']:\n",
    "    mergeData[i+'Norm']=mergeData.apply(lambda x:normTest(x,i),axis=1)"
   ]
  },
  {
   "cell_type": "code",
   "execution_count": 38,
   "metadata": {},
   "outputs": [
    {
     "output_type": "error",
     "ename": "ValueError",
     "evalue": "Must enter at least two input sample vectors.",
     "traceback": [
      "\u001b[1;31m---------------------------------------------------------------------------\u001b[0m",
      "\u001b[1;31mValueError\u001b[0m                                Traceback (most recent call last)",
      "\u001b[1;32m<ipython-input-38-f2a17a2e4431>\u001b[0m in \u001b[0;36m<module>\u001b[1;34m\u001b[0m\n\u001b[1;32m----> 1\u001b[1;33m \u001b[0mstats\u001b[0m\u001b[1;33m.\u001b[0m\u001b[0mlevene\u001b[0m\u001b[1;33m(\u001b[0m\u001b[1;33m[\u001b[0m\u001b[0mmergeData\u001b[0m\u001b[1;33m.\u001b[0m\u001b[0mloc\u001b[0m\u001b[1;33m[\u001b[0m\u001b[1;36m1\u001b[0m\u001b[1;33m,\u001b[0m\u001b[1;33m[\u001b[0m\u001b[1;34m'CHINoNan'\u001b[0m\u001b[1;33m]\u001b[0m\u001b[1;33m]\u001b[0m\u001b[1;33m,\u001b[0m\u001b[0mmergeData\u001b[0m\u001b[1;33m.\u001b[0m\u001b[0mloc\u001b[0m\u001b[1;33m[\u001b[0m\u001b[1;36m1\u001b[0m\u001b[1;33m,\u001b[0m\u001b[1;33m[\u001b[0m\u001b[1;34m'MATHNoNan'\u001b[0m\u001b[1;33m]\u001b[0m\u001b[1;33m]\u001b[0m\u001b[1;33m,\u001b[0m\u001b[0mmergeData\u001b[0m\u001b[1;33m.\u001b[0m\u001b[0mloc\u001b[0m\u001b[1;33m[\u001b[0m\u001b[1;36m1\u001b[0m\u001b[1;33m,\u001b[0m\u001b[1;33m[\u001b[0m\u001b[1;34m'ENGNoNan'\u001b[0m\u001b[1;33m]\u001b[0m\u001b[1;33m]\u001b[0m\u001b[1;33m]\u001b[0m\u001b[1;33m)\u001b[0m\u001b[1;33m\u001b[0m\u001b[1;33m\u001b[0m\u001b[0m\n\u001b[0m",
      "\u001b[1;32m~\\anaconda3\\lib\\site-packages\\scipy\\stats\\morestats.py\u001b[0m in \u001b[0;36mlevene\u001b[1;34m(*args, **kwds)\u001b[0m\n\u001b[0;32m   2318\u001b[0m     \u001b[0mk\u001b[0m \u001b[1;33m=\u001b[0m \u001b[0mlen\u001b[0m\u001b[1;33m(\u001b[0m\u001b[0margs\u001b[0m\u001b[1;33m)\u001b[0m\u001b[1;33m\u001b[0m\u001b[1;33m\u001b[0m\u001b[0m\n\u001b[0;32m   2319\u001b[0m     \u001b[1;32mif\u001b[0m \u001b[0mk\u001b[0m \u001b[1;33m<\u001b[0m \u001b[1;36m2\u001b[0m\u001b[1;33m:\u001b[0m\u001b[1;33m\u001b[0m\u001b[1;33m\u001b[0m\u001b[0m\n\u001b[1;32m-> 2320\u001b[1;33m         \u001b[1;32mraise\u001b[0m \u001b[0mValueError\u001b[0m\u001b[1;33m(\u001b[0m\u001b[1;34m\"Must enter at least two input sample vectors.\"\u001b[0m\u001b[1;33m)\u001b[0m\u001b[1;33m\u001b[0m\u001b[1;33m\u001b[0m\u001b[0m\n\u001b[0m\u001b[0;32m   2321\u001b[0m     \u001b[1;31m# check for 1d input\u001b[0m\u001b[1;33m\u001b[0m\u001b[1;33m\u001b[0m\u001b[1;33m\u001b[0m\u001b[0m\n\u001b[0;32m   2322\u001b[0m     \u001b[1;32mfor\u001b[0m \u001b[0mj\u001b[0m \u001b[1;32min\u001b[0m \u001b[0mrange\u001b[0m\u001b[1;33m(\u001b[0m\u001b[0mk\u001b[0m\u001b[1;33m)\u001b[0m\u001b[1;33m:\u001b[0m\u001b[1;33m\u001b[0m\u001b[1;33m\u001b[0m\u001b[0m\n",
      "\u001b[1;31mValueError\u001b[0m: Must enter at least two input sample vectors."
     ]
    }
   ],
   "source": [
    "stats.levene([mergeData.loc[1,['CHINoNan']],mergeData.loc[1,['MATHNoNan']],mergeData.loc[1,['ENGNoNan']]])"
   ]
  },
  {
   "cell_type": "code",
   "execution_count": 47,
   "metadata": {},
   "outputs": [
    {
     "output_type": "execute_result",
     "data": {
      "text/plain": "LeveneResult(statistic=2.3078067281391594, pvalue=0.11196328115742178)"
     },
     "metadata": {},
     "execution_count": 47
    }
   ],
   "source": [
    "tt=mergeData.loc[1,['CHINoNan','MATHNoNan','ENGNoNan']].values\n",
    "stats.levene(tt[0],tt[1],tt[2])"
   ]
  },
  {
   "cell_type": "code",
   "execution_count": null,
   "metadata": {},
   "outputs": [],
   "source": []
  }
 ],
 "metadata": {
  "language_info": {
   "codemirror_mode": {
    "name": "ipython",
    "version": 3
   },
   "file_extension": ".py",
   "mimetype": "text/x-python",
   "name": "python",
   "nbconvert_exporter": "python",
   "pygments_lexer": "ipython3",
   "version": "3.7.6-final"
  },
  "orig_nbformat": 2,
  "kernelspec": {
   "name": "python3",
   "display_name": "Python 3"
  }
 },
 "nbformat": 4,
 "nbformat_minor": 2
}