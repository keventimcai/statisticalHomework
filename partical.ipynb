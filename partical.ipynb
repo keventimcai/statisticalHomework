{
 "cells": [
  {
   "cell_type": "code",
   "execution_count": 62,
   "metadata": {},
   "outputs": [],
   "source": [
    "import pandas as pd\n",
    "import numpy as np\n",
    "import scipy.stats as stats\n",
    "import matplotlib as plt"
   ]
  },
  {
   "cell_type": "code",
   "execution_count": 2,
   "metadata": {},
   "outputs": [
    {
     "output_type": "execute_result",
     "data": {
      "text/plain": "     Unnamed: 0 Index Sex  CHI611  MATH611  ENG611  CHI612  MATH612  ENG612  \\\n0             1   A01   F    75.0     83.0    95.0    77.0     95.0    96.0   \n1             2   A02   F    88.0    100.0    90.0    88.0    100.0    95.0   \n2             3   A03   F    85.0     97.0    91.0    87.0     96.0    97.0   \n3             4   A04   F    83.0     97.0    97.0    83.0     94.0    97.0   \n4             5   A05   F    81.0     89.0    94.0    84.0     89.0    90.0   \n..          ...   ...  ..     ...      ...     ...     ...      ...     ...   \n238         239   G26   M    41.0     43.0    57.0    51.0     63.0    69.0   \n239         240   G27   M    70.0     80.0    77.0    69.0     75.0    77.0   \n240         241   G28   M    69.0     81.0    53.0    62.0     69.0    50.0   \n241         242   G29   M    59.0     12.0    62.0    57.0      9.0    54.0   \n242         243   G30   M    66.0     56.0    72.0    70.0     62.0    70.0   \n\n     CHI621  ...  CHI912  MATH912  ENG912  PHY912  CHE912  CHI921  MATH921  \\\n0      89.0  ...   130.0    134.0   136.5    88.0    94.0   120.0    137.0   \n1      91.0  ...   132.0    146.0   142.0    97.0    96.0   134.0    138.0   \n2      93.0  ...   132.0    146.0   144.5    96.0    95.0   134.0    145.0   \n3      86.0  ...   133.0    129.0   142.0    84.0    94.0   121.0    136.0   \n4      86.0  ...   127.0    137.0   136.0    87.0    92.0   124.0    140.0   \n..      ...  ...     ...      ...     ...     ...     ...     ...      ...   \n238    69.0  ...    69.0     54.0    65.0    57.0    74.0    54.0     68.0   \n239    76.0  ...   119.0    133.0   123.0    88.0    86.0   112.0    114.0   \n240    72.0  ...     NaN      NaN     NaN     NaN     NaN     NaN      NaN   \n241    48.0  ...    89.0     10.0    58.0    30.0    25.0    78.0     26.0   \n242    71.0  ...    85.0     85.0   110.5    68.0    88.0   102.0    103.0   \n\n     ENG921  PHY921  CHE921  \n0     140.0    79.0    57.0  \n1     145.5    84.0    57.0  \n2     146.0    86.0    57.0  \n3     140.0    83.0    53.0  \n4     128.0    79.0    54.0  \n..      ...     ...     ...  \n238    74.0    41.0    42.0  \n239   134.5    74.0    52.0  \n240     NaN     NaN     NaN  \n241    77.5    29.0     9.0  \n242   123.5    68.0    50.0  \n\n[243 rows x 58 columns]",
      "text/html": "<div>\n<style scoped>\n    .dataframe tbody tr th:only-of-type {\n        vertical-align: middle;\n    }\n\n    .dataframe tbody tr th {\n        vertical-align: top;\n    }\n\n    .dataframe thead th {\n        text-align: right;\n    }\n</style>\n<table border=\"1\" class=\"dataframe\">\n  <thead>\n    <tr style=\"text-align: right;\">\n      <th></th>\n      <th>Unnamed: 0</th>\n      <th>Index</th>\n      <th>Sex</th>\n      <th>CHI611</th>\n      <th>MATH611</th>\n      <th>ENG611</th>\n      <th>CHI612</th>\n      <th>MATH612</th>\n      <th>ENG612</th>\n      <th>CHI621</th>\n      <th>...</th>\n      <th>CHI912</th>\n      <th>MATH912</th>\n      <th>ENG912</th>\n      <th>PHY912</th>\n      <th>CHE912</th>\n      <th>CHI921</th>\n      <th>MATH921</th>\n      <th>ENG921</th>\n      <th>PHY921</th>\n      <th>CHE921</th>\n    </tr>\n  </thead>\n  <tbody>\n    <tr>\n      <th>0</th>\n      <td>1</td>\n      <td>A01</td>\n      <td>F</td>\n      <td>75.0</td>\n      <td>83.0</td>\n      <td>95.0</td>\n      <td>77.0</td>\n      <td>95.0</td>\n      <td>96.0</td>\n      <td>89.0</td>\n      <td>...</td>\n      <td>130.0</td>\n      <td>134.0</td>\n      <td>136.5</td>\n      <td>88.0</td>\n      <td>94.0</td>\n      <td>120.0</td>\n      <td>137.0</td>\n      <td>140.0</td>\n      <td>79.0</td>\n      <td>57.0</td>\n    </tr>\n    <tr>\n      <th>1</th>\n      <td>2</td>\n      <td>A02</td>\n      <td>F</td>\n      <td>88.0</td>\n      <td>100.0</td>\n      <td>90.0</td>\n      <td>88.0</td>\n      <td>100.0</td>\n      <td>95.0</td>\n      <td>91.0</td>\n      <td>...</td>\n      <td>132.0</td>\n      <td>146.0</td>\n      <td>142.0</td>\n      <td>97.0</td>\n      <td>96.0</td>\n      <td>134.0</td>\n      <td>138.0</td>\n      <td>145.5</td>\n      <td>84.0</td>\n      <td>57.0</td>\n    </tr>\n    <tr>\n      <th>2</th>\n      <td>3</td>\n      <td>A03</td>\n      <td>F</td>\n      <td>85.0</td>\n      <td>97.0</td>\n      <td>91.0</td>\n      <td>87.0</td>\n      <td>96.0</td>\n      <td>97.0</td>\n      <td>93.0</td>\n      <td>...</td>\n      <td>132.0</td>\n      <td>146.0</td>\n      <td>144.5</td>\n      <td>96.0</td>\n      <td>95.0</td>\n      <td>134.0</td>\n      <td>145.0</td>\n      <td>146.0</td>\n      <td>86.0</td>\n      <td>57.0</td>\n    </tr>\n    <tr>\n      <th>3</th>\n      <td>4</td>\n      <td>A04</td>\n      <td>F</td>\n      <td>83.0</td>\n      <td>97.0</td>\n      <td>97.0</td>\n      <td>83.0</td>\n      <td>94.0</td>\n      <td>97.0</td>\n      <td>86.0</td>\n      <td>...</td>\n      <td>133.0</td>\n      <td>129.0</td>\n      <td>142.0</td>\n      <td>84.0</td>\n      <td>94.0</td>\n      <td>121.0</td>\n      <td>136.0</td>\n      <td>140.0</td>\n      <td>83.0</td>\n      <td>53.0</td>\n    </tr>\n    <tr>\n      <th>4</th>\n      <td>5</td>\n      <td>A05</td>\n      <td>F</td>\n      <td>81.0</td>\n      <td>89.0</td>\n      <td>94.0</td>\n      <td>84.0</td>\n      <td>89.0</td>\n      <td>90.0</td>\n      <td>86.0</td>\n      <td>...</td>\n      <td>127.0</td>\n      <td>137.0</td>\n      <td>136.0</td>\n      <td>87.0</td>\n      <td>92.0</td>\n      <td>124.0</td>\n      <td>140.0</td>\n      <td>128.0</td>\n      <td>79.0</td>\n      <td>54.0</td>\n    </tr>\n    <tr>\n      <th>...</th>\n      <td>...</td>\n      <td>...</td>\n      <td>...</td>\n      <td>...</td>\n      <td>...</td>\n      <td>...</td>\n      <td>...</td>\n      <td>...</td>\n      <td>...</td>\n      <td>...</td>\n      <td>...</td>\n      <td>...</td>\n      <td>...</td>\n      <td>...</td>\n      <td>...</td>\n      <td>...</td>\n      <td>...</td>\n      <td>...</td>\n      <td>...</td>\n      <td>...</td>\n      <td>...</td>\n    </tr>\n    <tr>\n      <th>238</th>\n      <td>239</td>\n      <td>G26</td>\n      <td>M</td>\n      <td>41.0</td>\n      <td>43.0</td>\n      <td>57.0</td>\n      <td>51.0</td>\n      <td>63.0</td>\n      <td>69.0</td>\n      <td>69.0</td>\n      <td>...</td>\n      <td>69.0</td>\n      <td>54.0</td>\n      <td>65.0</td>\n      <td>57.0</td>\n      <td>74.0</td>\n      <td>54.0</td>\n      <td>68.0</td>\n      <td>74.0</td>\n      <td>41.0</td>\n      <td>42.0</td>\n    </tr>\n    <tr>\n      <th>239</th>\n      <td>240</td>\n      <td>G27</td>\n      <td>M</td>\n      <td>70.0</td>\n      <td>80.0</td>\n      <td>77.0</td>\n      <td>69.0</td>\n      <td>75.0</td>\n      <td>77.0</td>\n      <td>76.0</td>\n      <td>...</td>\n      <td>119.0</td>\n      <td>133.0</td>\n      <td>123.0</td>\n      <td>88.0</td>\n      <td>86.0</td>\n      <td>112.0</td>\n      <td>114.0</td>\n      <td>134.5</td>\n      <td>74.0</td>\n      <td>52.0</td>\n    </tr>\n    <tr>\n      <th>240</th>\n      <td>241</td>\n      <td>G28</td>\n      <td>M</td>\n      <td>69.0</td>\n      <td>81.0</td>\n      <td>53.0</td>\n      <td>62.0</td>\n      <td>69.0</td>\n      <td>50.0</td>\n      <td>72.0</td>\n      <td>...</td>\n      <td>NaN</td>\n      <td>NaN</td>\n      <td>NaN</td>\n      <td>NaN</td>\n      <td>NaN</td>\n      <td>NaN</td>\n      <td>NaN</td>\n      <td>NaN</td>\n      <td>NaN</td>\n      <td>NaN</td>\n    </tr>\n    <tr>\n      <th>241</th>\n      <td>242</td>\n      <td>G29</td>\n      <td>M</td>\n      <td>59.0</td>\n      <td>12.0</td>\n      <td>62.0</td>\n      <td>57.0</td>\n      <td>9.0</td>\n      <td>54.0</td>\n      <td>48.0</td>\n      <td>...</td>\n      <td>89.0</td>\n      <td>10.0</td>\n      <td>58.0</td>\n      <td>30.0</td>\n      <td>25.0</td>\n      <td>78.0</td>\n      <td>26.0</td>\n      <td>77.5</td>\n      <td>29.0</td>\n      <td>9.0</td>\n    </tr>\n    <tr>\n      <th>242</th>\n      <td>243</td>\n      <td>G30</td>\n      <td>M</td>\n      <td>66.0</td>\n      <td>56.0</td>\n      <td>72.0</td>\n      <td>70.0</td>\n      <td>62.0</td>\n      <td>70.0</td>\n      <td>71.0</td>\n      <td>...</td>\n      <td>85.0</td>\n      <td>85.0</td>\n      <td>110.5</td>\n      <td>68.0</td>\n      <td>88.0</td>\n      <td>102.0</td>\n      <td>103.0</td>\n      <td>123.5</td>\n      <td>68.0</td>\n      <td>50.0</td>\n    </tr>\n  </tbody>\n</table>\n<p>243 rows × 58 columns</p>\n</div>"
     },
     "metadata": {},
     "execution_count": 2
    }
   ],
   "source": [
    "data=pd.read_csv(\"Score.csv\")\n",
    "data"
   ]
  },
  {
   "cell_type": "code",
   "execution_count": 3,
   "metadata": {
    "tags": []
   },
   "outputs": [
    {
     "output_type": "execute_result",
     "data": {
      "text/plain": "array(['CHI611', 'MATH611', 'ENG611', 'CHI612', 'MATH612', 'ENG612',\n       'CHI621', 'MATH621', 'ENG621', 'CHI622', 'MATH622', 'ENG622',\n       'CHI711', 'MATH711', 'ENG711', 'CHI712', 'MATH712', 'ENG712',\n       'CHI721', 'MATH721', 'ENG721', 'CHI722', 'MATH722', 'ENG722',\n       'CHI811', 'MATH811', 'ENG811', 'PHY811', 'CHI812', 'MATH812',\n       'ENG812', 'PHY812', 'CHI821', 'MATH821', 'ENG821', 'PHY821',\n       'CHI822', 'MATH822', 'ENG822', 'PHY822', 'CHI911', 'MATH911',\n       'ENG911', 'PHY911', 'CHE911', 'CHI912', 'MATH912', 'ENG912',\n       'PHY912', 'CHE912', 'CHI921', 'MATH921', 'ENG921', 'PHY921',\n       'CHE921'], dtype=object)"
     },
     "metadata": {},
     "execution_count": 3
    }
   ],
   "source": [
    "col=np.array(data.columns)\n",
    "col=np.delete(col,range(3))\n",
    "col"
   ]
  },
  {
   "cell_type": "code",
   "execution_count": 4,
   "metadata": {
    "tags": []
   },
   "outputs": [],
   "source": [
    "maxScore1=[100 for i in range(36)]\n",
    "maxScore2=[150,150,150,100,150,150,150,100,60,150,150,150,100,100,150,150,150,90,60]\n",
    "maxScore=maxScore1+maxScore2"
   ]
  },
  {
   "cell_type": "code",
   "execution_count": 5,
   "metadata": {},
   "outputs": [],
   "source": [
    "transDataDict={}\n",
    "for i in range(55):\n",
    "    temp=(data[col[i]]-np.mean(data[col[i]]))/(np.max(data[col[i]])-np.min(data[col[i]]))\n",
    "    transDataDict[col[i]]=temp\n",
    "transData=pd.DataFrame.from_dict(transDataDict)\n",
    "del transDataDict"
   ]
  },
  {
   "cell_type": "code",
   "execution_count": 6,
   "metadata": {},
   "outputs": [],
   "source": [
    "mergeData=transData.apply(lambda x:[x['CHI611'],x['CHI612'],x['CHI621'],x['CHI622'],\n",
    "x['CHI711'],x['CHI712'],x['CHI721'],x['CHI722'],\n",
    "x['CHI811'],x['CHI812'],x['CHI821'],x['CHI822'],\n",
    "x['CHI911'],x['CHI912'],x['CHI921']],axis=1)\n",
    "mergeData=pd.DataFrame(mergeData,columns=['CHI'])\n",
    "mergeData['CHINoNan']=mergeData['CHI'].apply(lambda x:[i for i in x if not np.isnan(i)])\n",
    "mergeData['CHILen']=mergeData['CHINoNan'].apply(lambda x:len(x))"
   ]
  },
  {
   "cell_type": "code",
   "execution_count": 7,
   "metadata": {},
   "outputs": [],
   "source": [
    "def merge(x,col):\n",
    "    if col in ['MATH','ENG']:\n",
    "        x[col]=transData.apply(lambda x:[x[col+'611'],x[col+'612'],x[col+'621'],x[col+'622'],\n",
    "        x[col+'711'],x[col+'712'],x[col+'721'],x[col+'722'],\n",
    "        x[col+'811'],x[col+'812'],x[col+'821'],x[col+'822'],\n",
    "        x[col+'911'],x[col+'912'],x[col+'921']],axis=1)\n",
    "    elif col == 'PHY':\n",
    "        x[col]=transData.apply(lambda x:[x[col+'811'],x[col+'812'],x[col+'821'],x[col+'822'],\n",
    "        x[col+'911'],x[col+'912'],x[col+'921']],axis=1)\n",
    "    elif col == 'CHE':\n",
    "        x[col]=transData.apply(lambda x:[x[col+'911'],x[col+'912'],x[col+'921']],axis=1)\n",
    "def NoNan(x,col):\n",
    "    x[col+'NoNan']=x[col].apply(lambda x:[i for i in x if not np.isnan(i)])\n",
    "    x[col+'Len']=x[col+'NoNan'].apply(lambda x:len(x))\n",
    "def delOrigin(x,col):\n",
    "    x.drop([col],axis=1,inplace=True)\n",
    "\n",
    "delOrigin(mergeData,'CHI')\n",
    "\n",
    "for i in ['MATH','ENG','PHY','CHE']:\n",
    "    merge(mergeData,i)\n",
    "    NoNan(mergeData,i)\n",
    "    delOrigin(mergeData,i)"
   ]
  },
  {
   "cell_type": "code",
   "execution_count": 8,
   "metadata": {
    "tags": []
   },
   "outputs": [],
   "source": [
    "def normTest(x,col):\n",
    "    if x[col+'Len']>=3:\n",
    "        return stats.shapiro(x[col+'NoNan'])\n",
    "    else:\n",
    "        return (-1,-1)\n",
    "\n",
    "for i in ['CHI','MATH','ENG']:\n",
    "    mergeData[i+'Norm']=mergeData.apply(lambda x:normTest(x,i),axis=1)"
   ]
  },
  {
   "cell_type": "code",
   "execution_count": 9,
   "metadata": {},
   "outputs": [],
   "source": [
    "def stdTest(df):\n",
    "    temp=df[['CHINoNan','MATHNoNan','ENGNoNan']].values\n",
    "    return stats.levene(temp[0],temp[1],temp[2])\n",
    "mergeData['stdTest']=mergeData.apply(stdTest,axis=1)"
   ]
  },
  {
   "cell_type": "code",
   "execution_count": 10,
   "metadata": {},
   "outputs": [],
   "source": [
    "equalStdData=mergeData[mergeData['stdTest'].apply(lambda x:x[1]>0.05)].copy()"
   ]
  },
  {
   "cell_type": "code",
   "execution_count": 11,
   "metadata": {},
   "outputs": [],
   "source": [
    "def oneWay(df):\n",
    "    temp=df[['CHINoNan','MATHNoNan','ENGNoNan']].values\n",
    "    return stats.f_oneway(temp[0],temp[1],temp[2])\n",
    "equalStdData['oneWay']=equalStdData.apply(oneWay,axis=1)"
   ]
  },
  {
   "cell_type": "code",
   "execution_count": 18,
   "metadata": {},
   "outputs": [
    {
     "output_type": "execute_result",
     "data": {
      "text/plain": "54"
     },
     "metadata": {},
     "execution_count": 18
    }
   ],
   "source": [
    "len(equalStdData[equalStdData['oneWay'].apply(lambda x:x[1]>0.05)])"
   ]
  },
  {
   "cell_type": "code",
   "execution_count": 19,
   "metadata": {},
   "outputs": [],
   "source": [
    "equalStdData['isBias']=equalStdData['oneWay'].apply(lambda x:x[1]<0.05)"
   ]
  },
  {
   "cell_type": "code",
   "execution_count": 54,
   "metadata": {},
   "outputs": [],
   "source": [
    "sexBiasCount=equalStdData.join(data['Sex'])\n",
    "sexBiasCount=sexBiasCount.groupby(['Sex','isBias'])['CHINoNan'].count().reset_index()\n",
    "sexBiasCount.rename(columns={'CHINoNan':'count'},inplace=True)\n",
    "sexBiasCount=sexBiasCount.pivot(index='Sex',columns='isBias',values='count')"
   ]
  },
  {
   "cell_type": "code",
   "execution_count": 55,
   "metadata": {},
   "outputs": [
    {
     "output_type": "execute_result",
     "data": {
      "text/plain": "isBias  False  True \nSex                 \nF          23     64\nM          25     71",
      "text/html": "<div>\n<style scoped>\n    .dataframe tbody tr th:only-of-type {\n        vertical-align: middle;\n    }\n\n    .dataframe tbody tr th {\n        vertical-align: top;\n    }\n\n    .dataframe thead th {\n        text-align: right;\n    }\n</style>\n<table border=\"1\" class=\"dataframe\">\n  <thead>\n    <tr style=\"text-align: right;\">\n      <th>isBias</th>\n      <th>False</th>\n      <th>True</th>\n    </tr>\n    <tr>\n      <th>Sex</th>\n      <th></th>\n      <th></th>\n    </tr>\n  </thead>\n  <tbody>\n    <tr>\n      <th>F</th>\n      <td>23</td>\n      <td>64</td>\n    </tr>\n    <tr>\n      <th>M</th>\n      <td>25</td>\n      <td>71</td>\n    </tr>\n  </tbody>\n</table>\n</div>"
     },
     "metadata": {},
     "execution_count": 55
    }
   ],
   "source": [
    "sexBiasCount"
   ]
  },
  {
   "cell_type": "code",
   "execution_count": 56,
   "metadata": {},
   "outputs": [
    {
     "output_type": "execute_result",
     "data": {
      "text/plain": "(0.011571704382183943,\n 0.9143353224117214,\n 1,\n array([[22.81967213, 64.18032787],\n        [25.18032787, 70.81967213]]))"
     },
     "metadata": {},
     "execution_count": 56
    }
   ],
   "source": [
    "stats.chi2_contingency(sexBiasCount)"
   ]
  },
  {
   "cell_type": "code",
   "execution_count": 59,
   "metadata": {},
   "outputs": [],
   "source": [
    "for i in ['CHI','MATH','ENG']:\n",
    "    mergeData[i+'Mean']=mergeData[i+'NoNan'].apply(np.mean)"
   ]
  },
  {
   "cell_type": "code",
   "execution_count": 60,
   "metadata": {},
   "outputs": [
    {
     "output_type": "execute_result",
     "data": {
      "text/plain": "                                              CHINoNan  CHILen  \\\n0    [0.03090734649122817, 0.03987927048548682, 0.1...      15   \n1    [0.23403234649122817, 0.20164397636783976, 0.1...      15   \n2    [0.18715734649122817, 0.18693809401489858, 0.2...      15   \n3    [0.15590734649122817, 0.12811456460313386, 0.1...      15   \n4    [0.12465734649122817, 0.14282044695607504, 0.1...      15   \n..                                                 ...     ...   \n238  [-0.5003426535087718, -0.3424736706909838, -0....      15   \n239  [-0.04721765350877183, -0.0777677883380426, 0....      15   \n240  [-0.06284265350877183, -0.18070896480863083, -...       7   \n241  [-0.21909265350877183, -0.2542383765733367, -0...      15   \n242  [-0.10971765350877183, -0.06306190598510142, -...      15   \n\n                                             MATHNoNan  MATHLen  \\\n0    [0.015789473684210527, 0.1654788011695906, 0.1...       15   \n1    [0.19473684210526315, 0.21756213450292394, 0.1...       15   \n2    [0.1631578947368421, 0.17589546783625729, 0.18...       15   \n3    [0.1631578947368421, 0.15506213450292394, 0.11...       15   \n4    [0.07894736842105263, 0.10297880116959061, 0.1...       15   \n..                                                 ...      ...   \n238  [-0.4052631578947368, -0.16785453216374271, -0...       15   \n239  [-0.015789473684210527, -0.04285453216374272, ...       15   \n240  [-0.005263157894736842, -0.10535453216374273, ...        7   \n241  [-0.7315789473684211, -0.7303545321637427, -0....       15   \n242  [-0.26842105263157895, -0.1782711988304094, -0...       15   \n\n                                              ENGNoNan  ENGLen  \\\n0    [0.20077972709551647, 0.205363091272485, 0.233...      15   \n1    [0.13905133203378808, 0.19270486342438373, 0.2...      15   \n2    [0.15139701104613376, 0.21802131912058625, 0.2...      15   \n3    [0.22547108512020783, 0.21802131912058625, 0.2...      15   \n4    [0.1884340480831708, 0.1294137241838774, 0.221...      15   \n..                                                 ...     ...   \n238  [-0.26835607537361933, -0.1364090606262492, -0...      15   \n239  [-0.021442495126705735, -0.03514323784143905, ...      15   \n240  [-0.31773879142300204, -0.37691538974017325, -...       7   \n241  [-0.2066276803118909, -0.3262824783477682, -0....      15   \n242  [-0.08317089018843413, -0.12375083277814791, -...      15   \n\n                                              PHYNoNan  PHYLen  \\\n0    [0.04077953296703285, 0.07447848761408091, 0.1...       7   \n1    [0.1836366758241757, 0.19312255541069107, 0.16...       7   \n2    [0.13006524725274712, 0.10837679269882668, 0.2...       7   \n3    [0.14792239010989, 0.006681877444589383, 0.211...       7   \n4    [-0.04850618131868144, 0.09142764015645378, 0....       7   \n..                                                 ...     ...   \n238  [-0.3163633241758243, -0.366199478487614, -0.4...       7   \n239  [-0.04850618131868144, 0.09142764015645378, 0....       7   \n240                                                 []       0   \n241  [-0.7092204670329672, -0.45094524119947843, -0...       7   \n242  [-0.13779189560439573, -0.02721642764015638, -...       7   \n\n                                              CHENoNan  CHELen  \\\n0    [0.10875000000000003, 0.1593174729374351, 0.19...       3   \n1    [0.24336538461538465, 0.18341385847960376, 0.1...       3   \n2    [0.2241346153846154, 0.1713656657085194, 0.197...       3   \n3    [0.14721153846153848, 0.1593174729374351, 0.12...       3   \n4    [0.05105769230769233, 0.13522108739526642, 0.1...       3   \n..                                                 ...     ...   \n238  [0.0318269230769231, -0.08164638248425166, -0....       3   \n239  [0.10875000000000003, 0.06293193076876039, 0.1...       3   \n240                                                 []       0   \n241  [-0.6027884615384616, -0.6720078282673841, -0....       3   \n242  [0.07028846153846156, 0.08702831631092907, 0.0...       3   \n\n                                        CHINorm  \\\n0      (0.9709715247154236, 0.8721742630004883)   \n1      (0.9824881553649902, 0.9836723208427429)   \n2      (0.9814431667327881, 0.9783942103385925)   \n3    (0.792724072933197, 0.0029696603305637836)   \n4       (0.9449722766876221, 0.449007511138916)   \n..                                          ...   \n238    (0.9411413073539734, 0.3969385325908661)   \n239    (0.9612538814544678, 0.7141820788383484)   \n240   (0.8098137378692627, 0.05115337669849396)   \n241    (0.9858582615852356, 0.9947519302368164)   \n242   (0.9303625226020813, 0.27630093693733215)   \n\n                                      MATHNorm  \\\n0    (0.9336451888084412, 0.30911287665367126)   \n1     (0.9665210247039795, 0.8036194443702698)   \n2     (0.9782966375350952, 0.9565412402153015)   \n3     (0.9624140858650208, 0.7342670559883118)   \n4     (0.9718667268753052, 0.8846744894981384)   \n..                                         ...   \n238    (0.971322774887085, 0.8771403431892395)   \n239  (0.8791059255599976, 0.04601108282804489)   \n240   (0.9318311214447021, 0.5665789842605591)   \n241  (0.7095144391059875, 0.00031470344401896)   \n242  (0.9372618198394775, 0.34918561577796936)   \n\n                                       ENGNorm  \\\n0     (0.9522424340248108, 0.5604376792907715)   \n1    (0.9339931011199951, 0.31278568506240845)   \n2    (0.9474647045135498, 0.48544344305992126)   \n3    (0.9059133529663086, 0.11721926927566528)   \n4    (0.9146327376365662, 0.15946528315544128)   \n..                                         ...   \n238    (0.9541086554527283, 0.591309130191803)   \n239   (0.9377525448799133, 0.3549499809741974)   \n240   (0.9810584783554077, 0.9645172953605652)   \n241   (0.9539034366607666, 0.5878782272338867)   \n242    (0.9590376019477844, 0.675673246383667)   \n\n                                        stdTest   CHIMean  MATHMean   ENGMean  \n0      (0.3539978113432612, 0.7039504940049248)  0.108074  0.138268  0.191900  \n1     (1.1848434029687083, 0.31580679637691866)  0.215418  0.181285  0.198088  \n2    (9.136267159587616, 0.0005078396281129207)  0.205327  0.182540  0.213872  \n3      (0.7384997215982291, 0.4839319107708485)  0.146745  0.148130  0.184433  \n4     (0.20493722552503213, 0.8155082817284327)  0.118292  0.108336  0.152492  \n..                                          ...       ...       ...       ...  \n238   (3.0149645427223835, 0.05977013607537804) -0.464069 -0.376752 -0.273316  \n239     (2.25714773954521, 0.11719786588929502)  0.018779 -0.019539  0.006943  \n240   (0.49324300129026427, 0.6186588144001129) -0.060083 -0.113906 -0.271337  \n241    (0.4125946878503482, 0.6645841262602422) -0.338398 -0.697887 -0.375732  \n242   (5.670717937000902, 0.006605053725360441) -0.254762 -0.178028 -0.052673  \n\n[243 rows x 17 columns]",
      "text/html": "<div>\n<style scoped>\n    .dataframe tbody tr th:only-of-type {\n        vertical-align: middle;\n    }\n\n    .dataframe tbody tr th {\n        vertical-align: top;\n    }\n\n    .dataframe thead th {\n        text-align: right;\n    }\n</style>\n<table border=\"1\" class=\"dataframe\">\n  <thead>\n    <tr style=\"text-align: right;\">\n      <th></th>\n      <th>CHINoNan</th>\n      <th>CHILen</th>\n      <th>MATHNoNan</th>\n      <th>MATHLen</th>\n      <th>ENGNoNan</th>\n      <th>ENGLen</th>\n      <th>PHYNoNan</th>\n      <th>PHYLen</th>\n      <th>CHENoNan</th>\n      <th>CHELen</th>\n      <th>CHINorm</th>\n      <th>MATHNorm</th>\n      <th>ENGNorm</th>\n      <th>stdTest</th>\n      <th>CHIMean</th>\n      <th>MATHMean</th>\n      <th>ENGMean</th>\n    </tr>\n  </thead>\n  <tbody>\n    <tr>\n      <th>0</th>\n      <td>[0.03090734649122817, 0.03987927048548682, 0.1...</td>\n      <td>15</td>\n      <td>[0.015789473684210527, 0.1654788011695906, 0.1...</td>\n      <td>15</td>\n      <td>[0.20077972709551647, 0.205363091272485, 0.233...</td>\n      <td>15</td>\n      <td>[0.04077953296703285, 0.07447848761408091, 0.1...</td>\n      <td>7</td>\n      <td>[0.10875000000000003, 0.1593174729374351, 0.19...</td>\n      <td>3</td>\n      <td>(0.9709715247154236, 0.8721742630004883)</td>\n      <td>(0.9336451888084412, 0.30911287665367126)</td>\n      <td>(0.9522424340248108, 0.5604376792907715)</td>\n      <td>(0.3539978113432612, 0.7039504940049248)</td>\n      <td>0.108074</td>\n      <td>0.138268</td>\n      <td>0.191900</td>\n    </tr>\n    <tr>\n      <th>1</th>\n      <td>[0.23403234649122817, 0.20164397636783976, 0.1...</td>\n      <td>15</td>\n      <td>[0.19473684210526315, 0.21756213450292394, 0.1...</td>\n      <td>15</td>\n      <td>[0.13905133203378808, 0.19270486342438373, 0.2...</td>\n      <td>15</td>\n      <td>[0.1836366758241757, 0.19312255541069107, 0.16...</td>\n      <td>7</td>\n      <td>[0.24336538461538465, 0.18341385847960376, 0.1...</td>\n      <td>3</td>\n      <td>(0.9824881553649902, 0.9836723208427429)</td>\n      <td>(0.9665210247039795, 0.8036194443702698)</td>\n      <td>(0.9339931011199951, 0.31278568506240845)</td>\n      <td>(1.1848434029687083, 0.31580679637691866)</td>\n      <td>0.215418</td>\n      <td>0.181285</td>\n      <td>0.198088</td>\n    </tr>\n    <tr>\n      <th>2</th>\n      <td>[0.18715734649122817, 0.18693809401489858, 0.2...</td>\n      <td>15</td>\n      <td>[0.1631578947368421, 0.17589546783625729, 0.18...</td>\n      <td>15</td>\n      <td>[0.15139701104613376, 0.21802131912058625, 0.2...</td>\n      <td>15</td>\n      <td>[0.13006524725274712, 0.10837679269882668, 0.2...</td>\n      <td>7</td>\n      <td>[0.2241346153846154, 0.1713656657085194, 0.197...</td>\n      <td>3</td>\n      <td>(0.9814431667327881, 0.9783942103385925)</td>\n      <td>(0.9782966375350952, 0.9565412402153015)</td>\n      <td>(0.9474647045135498, 0.48544344305992126)</td>\n      <td>(9.136267159587616, 0.0005078396281129207)</td>\n      <td>0.205327</td>\n      <td>0.182540</td>\n      <td>0.213872</td>\n    </tr>\n    <tr>\n      <th>3</th>\n      <td>[0.15590734649122817, 0.12811456460313386, 0.1...</td>\n      <td>15</td>\n      <td>[0.1631578947368421, 0.15506213450292394, 0.11...</td>\n      <td>15</td>\n      <td>[0.22547108512020783, 0.21802131912058625, 0.2...</td>\n      <td>15</td>\n      <td>[0.14792239010989, 0.006681877444589383, 0.211...</td>\n      <td>7</td>\n      <td>[0.14721153846153848, 0.1593174729374351, 0.12...</td>\n      <td>3</td>\n      <td>(0.792724072933197, 0.0029696603305637836)</td>\n      <td>(0.9624140858650208, 0.7342670559883118)</td>\n      <td>(0.9059133529663086, 0.11721926927566528)</td>\n      <td>(0.7384997215982291, 0.4839319107708485)</td>\n      <td>0.146745</td>\n      <td>0.148130</td>\n      <td>0.184433</td>\n    </tr>\n    <tr>\n      <th>4</th>\n      <td>[0.12465734649122817, 0.14282044695607504, 0.1...</td>\n      <td>15</td>\n      <td>[0.07894736842105263, 0.10297880116959061, 0.1...</td>\n      <td>15</td>\n      <td>[0.1884340480831708, 0.1294137241838774, 0.221...</td>\n      <td>15</td>\n      <td>[-0.04850618131868144, 0.09142764015645378, 0....</td>\n      <td>7</td>\n      <td>[0.05105769230769233, 0.13522108739526642, 0.1...</td>\n      <td>3</td>\n      <td>(0.9449722766876221, 0.449007511138916)</td>\n      <td>(0.9718667268753052, 0.8846744894981384)</td>\n      <td>(0.9146327376365662, 0.15946528315544128)</td>\n      <td>(0.20493722552503213, 0.8155082817284327)</td>\n      <td>0.118292</td>\n      <td>0.108336</td>\n      <td>0.152492</td>\n    </tr>\n    <tr>\n      <th>...</th>\n      <td>...</td>\n      <td>...</td>\n      <td>...</td>\n      <td>...</td>\n      <td>...</td>\n      <td>...</td>\n      <td>...</td>\n      <td>...</td>\n      <td>...</td>\n      <td>...</td>\n      <td>...</td>\n      <td>...</td>\n      <td>...</td>\n      <td>...</td>\n      <td>...</td>\n      <td>...</td>\n      <td>...</td>\n    </tr>\n    <tr>\n      <th>238</th>\n      <td>[-0.5003426535087718, -0.3424736706909838, -0....</td>\n      <td>15</td>\n      <td>[-0.4052631578947368, -0.16785453216374271, -0...</td>\n      <td>15</td>\n      <td>[-0.26835607537361933, -0.1364090606262492, -0...</td>\n      <td>15</td>\n      <td>[-0.3163633241758243, -0.366199478487614, -0.4...</td>\n      <td>7</td>\n      <td>[0.0318269230769231, -0.08164638248425166, -0....</td>\n      <td>3</td>\n      <td>(0.9411413073539734, 0.3969385325908661)</td>\n      <td>(0.971322774887085, 0.8771403431892395)</td>\n      <td>(0.9541086554527283, 0.591309130191803)</td>\n      <td>(3.0149645427223835, 0.05977013607537804)</td>\n      <td>-0.464069</td>\n      <td>-0.376752</td>\n      <td>-0.273316</td>\n    </tr>\n    <tr>\n      <th>239</th>\n      <td>[-0.04721765350877183, -0.0777677883380426, 0....</td>\n      <td>15</td>\n      <td>[-0.015789473684210527, -0.04285453216374272, ...</td>\n      <td>15</td>\n      <td>[-0.021442495126705735, -0.03514323784143905, ...</td>\n      <td>15</td>\n      <td>[-0.04850618131868144, 0.09142764015645378, 0....</td>\n      <td>7</td>\n      <td>[0.10875000000000003, 0.06293193076876039, 0.1...</td>\n      <td>3</td>\n      <td>(0.9612538814544678, 0.7141820788383484)</td>\n      <td>(0.8791059255599976, 0.04601108282804489)</td>\n      <td>(0.9377525448799133, 0.3549499809741974)</td>\n      <td>(2.25714773954521, 0.11719786588929502)</td>\n      <td>0.018779</td>\n      <td>-0.019539</td>\n      <td>0.006943</td>\n    </tr>\n    <tr>\n      <th>240</th>\n      <td>[-0.06284265350877183, -0.18070896480863083, -...</td>\n      <td>7</td>\n      <td>[-0.005263157894736842, -0.10535453216374273, ...</td>\n      <td>7</td>\n      <td>[-0.31773879142300204, -0.37691538974017325, -...</td>\n      <td>7</td>\n      <td>[]</td>\n      <td>0</td>\n      <td>[]</td>\n      <td>0</td>\n      <td>(0.8098137378692627, 0.05115337669849396)</td>\n      <td>(0.9318311214447021, 0.5665789842605591)</td>\n      <td>(0.9810584783554077, 0.9645172953605652)</td>\n      <td>(0.49324300129026427, 0.6186588144001129)</td>\n      <td>-0.060083</td>\n      <td>-0.113906</td>\n      <td>-0.271337</td>\n    </tr>\n    <tr>\n      <th>241</th>\n      <td>[-0.21909265350877183, -0.2542383765733367, -0...</td>\n      <td>15</td>\n      <td>[-0.7315789473684211, -0.7303545321637427, -0....</td>\n      <td>15</td>\n      <td>[-0.2066276803118909, -0.3262824783477682, -0....</td>\n      <td>15</td>\n      <td>[-0.7092204670329672, -0.45094524119947843, -0...</td>\n      <td>7</td>\n      <td>[-0.6027884615384616, -0.6720078282673841, -0....</td>\n      <td>3</td>\n      <td>(0.9858582615852356, 0.9947519302368164)</td>\n      <td>(0.7095144391059875, 0.00031470344401896)</td>\n      <td>(0.9539034366607666, 0.5878782272338867)</td>\n      <td>(0.4125946878503482, 0.6645841262602422)</td>\n      <td>-0.338398</td>\n      <td>-0.697887</td>\n      <td>-0.375732</td>\n    </tr>\n    <tr>\n      <th>242</th>\n      <td>[-0.10971765350877183, -0.06306190598510142, -...</td>\n      <td>15</td>\n      <td>[-0.26842105263157895, -0.1782711988304094, -0...</td>\n      <td>15</td>\n      <td>[-0.08317089018843413, -0.12375083277814791, -...</td>\n      <td>15</td>\n      <td>[-0.13779189560439573, -0.02721642764015638, -...</td>\n      <td>7</td>\n      <td>[0.07028846153846156, 0.08702831631092907, 0.0...</td>\n      <td>3</td>\n      <td>(0.9303625226020813, 0.27630093693733215)</td>\n      <td>(0.9372618198394775, 0.34918561577796936)</td>\n      <td>(0.9590376019477844, 0.675673246383667)</td>\n      <td>(5.670717937000902, 0.006605053725360441)</td>\n      <td>-0.254762</td>\n      <td>-0.178028</td>\n      <td>-0.052673</td>\n    </tr>\n  </tbody>\n</table>\n<p>243 rows × 17 columns</p>\n</div>"
     },
     "metadata": {},
     "execution_count": 60
    }
   ],
   "source": [
    "mergeData"
   ]
  },
  {
   "cell_type": "code",
   "execution_count": 61,
   "metadata": {},
   "outputs": [
    {
     "output_type": "execute_result",
     "data": {
      "text/plain": "(0.9014296531677246, 1.5533980352033794e-11)"
     },
     "metadata": {},
     "execution_count": 61
    }
   ],
   "source": [
    "stats.shapiro(mergeData['CHIMean'])"
   ]
  }
 ],
 "metadata": {
  "language_info": {
   "codemirror_mode": {
    "name": "ipython",
    "version": 3
   },
   "file_extension": ".py",
   "mimetype": "text/x-python",
   "name": "python",
   "nbconvert_exporter": "python",
   "pygments_lexer": "ipython3",
   "version": "3.7.6-final"
  },
  "orig_nbformat": 2,
  "kernelspec": {
   "name": "python3",
   "display_name": "Python 3"
  }
 },
 "nbformat": 4,
 "nbformat_minor": 2
}