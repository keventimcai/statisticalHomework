{
 "cells": [
  {
   "cell_type": "code",
   "execution_count": 1,
   "metadata": {},
   "outputs": [],
   "source": [
    "import pandas as pd\n",
    "import numpy as np\n",
    "import scipy.stats as stats\n",
    "import matplotlib as plt"
   ]
  },
  {
   "cell_type": "code",
   "execution_count": 2,
   "metadata": {},
   "outputs": [],
   "source": [
    "data=pd.read_csv(\"Score.csv\")\n",
    "#data"
   ]
  },
  {
   "cell_type": "code",
   "execution_count": 3,
   "metadata": {
    "tags": []
   },
   "outputs": [],
   "source": [
    "col=np.array(data.columns)\n",
    "col=np.delete(col,range(3))\n",
    "#col"
   ]
  },
  {
   "cell_type": "code",
   "execution_count": 4,
   "metadata": {
    "tags": []
   },
   "outputs": [
    {
     "output_type": "execute_result",
     "data": {
      "text/plain": "'\\nmaxScore1=[100 for i in range(36)]\\nmaxScore2=[150,150,150,100,150,150,150,100,60,150,150,150,100,100,150,150,150,90,60]\\nmaxScore=maxScore1+maxScore2\\n'"
     },
     "metadata": {},
     "execution_count": 4
    }
   ],
   "source": [
    "'''\n",
    "maxScore1=[100 for i in range(36)]\n",
    "maxScore2=[150,150,150,100,150,150,150,100,60,150,150,150,100,100,150,150,150,90,60]\n",
    "maxScore=maxScore1+maxScore2\n",
    "'''"
   ]
  },
  {
   "cell_type": "code",
   "execution_count": 5,
   "metadata": {},
   "outputs": [],
   "source": [
    "transDataDict={}\n",
    "for i in range(55):\n",
    "    temp=(data[col[i]]-np.mean(data[col[i]]))/(np.max(data[col[i]])-np.min(data[col[i]]))\n",
    "    transDataDict[col[i]]=temp\n",
    "transData=pd.DataFrame.from_dict(transDataDict)\n",
    "del transDataDict"
   ]
  },
  {
   "cell_type": "code",
   "execution_count": 6,
   "metadata": {},
   "outputs": [],
   "source": [
    "mergeData=transData.apply(lambda x:[x['CHI611'],x['CHI612'],x['CHI621'],x['CHI622'],\n",
    "x['CHI711'],x['CHI712'],x['CHI721'],x['CHI722'],\n",
    "x['CHI811'],x['CHI812'],x['CHI821'],x['CHI822'],\n",
    "x['CHI911'],x['CHI912'],x['CHI921']],axis=1)\n",
    "mergeData=pd.DataFrame(mergeData,columns=['CHI'])\n",
    "mergeData['CHINoNan']=mergeData['CHI'].apply(lambda x:[i for i in x if not np.isnan(i)])\n",
    "mergeData['CHILen']=mergeData['CHINoNan'].apply(lambda x:len(x))"
   ]
  },
  {
   "cell_type": "code",
   "execution_count": 7,
   "metadata": {},
   "outputs": [],
   "source": [
    "def merge(x,col):\n",
    "    if col in ['MATH','ENG']:\n",
    "        x[col]=transData.apply(lambda x:[x[col+'611'],x[col+'612'],x[col+'621'],x[col+'622'],\n",
    "        x[col+'711'],x[col+'712'],x[col+'721'],x[col+'722'],\n",
    "        x[col+'811'],x[col+'812'],x[col+'821'],x[col+'822'],\n",
    "        x[col+'911'],x[col+'912'],x[col+'921']],axis=1)\n",
    "    elif col == 'PHY':\n",
    "        x[col]=transData.apply(lambda x:[x[col+'811'],x[col+'812'],x[col+'821'],x[col+'822'],\n",
    "        x[col+'911'],x[col+'912'],x[col+'921']],axis=1)\n",
    "    elif col == 'CHE':\n",
    "        x[col]=transData.apply(lambda x:[x[col+'911'],x[col+'912'],x[col+'921']],axis=1)\n",
    "def NoNan(x,col):\n",
    "    x[col+'NoNan']=x[col].apply(lambda x:[i for i in x if not np.isnan(i)])\n",
    "    x[col+'Len']=x[col+'NoNan'].apply(lambda x:len(x))\n",
    "def delOrigin(x,col):\n",
    "    x.drop([col],axis=1,inplace=True)\n",
    "\n",
    "delOrigin(mergeData,'CHI')\n",
    "\n",
    "for i in ['MATH','ENG']:\n",
    "    merge(mergeData,i)\n",
    "    NoNan(mergeData,i)\n",
    "    delOrigin(mergeData,i)"
   ]
  },
  {
   "cell_type": "code",
   "execution_count": 8,
   "metadata": {
    "tags": []
   },
   "outputs": [],
   "source": [
    "def normTest(x,col):\n",
    "    if x[col+'Len']>=3:\n",
    "        return stats.shapiro(x[col+'NoNan'])\n",
    "    else:\n",
    "        return (-1,-1)\n",
    "\n",
    "for i in ['CHI','MATH','ENG']:\n",
    "    mergeData[i+'Norm']=mergeData.apply(lambda x:normTest(x,i),axis=1)\n",
    "equalStdData=mergeData[(mergeData['CHINorm'].apply(lambda x:x[1]>0.05)) & (mergeData['MATHNorm'].apply(lambda x:x[1]>0.05)) & (mergeData['ENGNorm'].apply(lambda x:x[1]>0.05))]"
   ]
  },
  {
   "cell_type": "code",
   "execution_count": 9,
   "metadata": {},
   "outputs": [],
   "source": [
    "def stdTest(df):\n",
    "    temp=df[['CHINoNan','MATHNoNan','ENGNoNan']].values\n",
    "    stat,p=stats.levene(temp[0],temp[1],temp[2])\n",
    "    return p>0.05\n",
    "equalStdData['stdTest']=equalStdData.apply(stdTest,axis=1)"
   ]
  },
  {
   "cell_type": "code",
   "execution_count": 10,
   "metadata": {},
   "outputs": [],
   "source": [
    "equalStdData=equalStdData[equalStdData['stdTest']]\n",
    "def oneWay(df):\n",
    "    temp=df[['CHINoNan','MATHNoNan','ENGNoNan']].values\n",
    "    stat,p=stats.f_oneway(temp[0],temp[1],temp[2])\n",
    "    return p<0.05\n",
    "equalStdData['isBias']=equalStdData.apply(oneWay,axis=1)\n",
    "analIndex=equalStdData.index.values"
   ]
  },
  {
   "cell_type": "code",
   "execution_count": 11,
   "metadata": {},
   "outputs": [],
   "source": [
    "noEqualStdData=mergeData.loc[np.setdiff1d(np.arange(243),analIndex)].copy()\n",
    "def kruskal(df):\n",
    "    temp=df[['CHINoNan','MATHNoNan','ENGNoNan']].values\n",
    "    stat,p=stats.kruskal(temp[0],temp[1],temp[2])\n",
    "    return p<0.05\n",
    "noEqualStdData['isBias']=noEqualStdData.apply(kruskal,axis=1)"
   ]
  },
  {
   "cell_type": "code",
   "execution_count": 12,
   "metadata": {},
   "outputs": [],
   "source": [
    "equalStdData=pd.concat([equalStdData,noEqualStdData])"
   ]
  },
  {
   "cell_type": "code",
   "execution_count": 13,
   "metadata": {
    "tags": []
   },
   "outputs": [
    {
     "output_type": "stream",
     "name": "stdout",
     "text": "isBias  False  True \nSex                 \nF          26     83\nM          34     85\n"
    },
    {
     "output_type": "execute_result",
     "data": {
      "text/plain": "(0.4324735398746665,\n 0.5107777093228676,\n 1,\n array([[28.68421053, 80.31578947],\n        [31.31578947, 87.68421053]]))"
     },
     "metadata": {},
     "execution_count": 13
    }
   ],
   "source": [
    "sexBiasCount=equalStdData.join(data['Sex'])\n",
    "sexBiasCount=sexBiasCount.groupby(['Sex','isBias'])['CHINoNan'].count().reset_index()\n",
    "sexBiasCount.rename(columns={'CHINoNan':'count'},inplace=True)\n",
    "sexBiasCount=sexBiasCount.pivot(index='Sex',columns='isBias',values='count')\n",
    "print(sexBiasCount)\n",
    "stats.chi2_contingency(sexBiasCount)"
   ]
  },
  {
   "cell_type": "code",
   "execution_count": 14,
   "metadata": {},
   "outputs": [],
   "source": [
    "for i in ['CHI','MATH','ENG']:\n",
    "    mergeData[i+'Mean']=mergeData[i+'NoNan'].apply(np.mean)"
   ]
  },
  {
   "cell_type": "code",
   "execution_count": 15,
   "metadata": {},
   "outputs": [],
   "source": [
    "def findBias(df):\n",
    "    meanCol=['CHIMean','MATHMean','ENGMean']\n",
    "    dis=np.zeros(3)\n",
    "    maxScoreLesson=np.argmax(df[meanCol])\n",
    "    for i in range(3):\n",
    "        temp=0\n",
    "        for j in meanCol:\n",
    "            temp+=np.abs(df[meanCol[i]]-df[j])\n",
    "        dis[i]=temp\n",
    "    argMax=np.argmax(dis)\n",
    "    flag=(maxScoreLesson==argMax)\n",
    "    return (np.max(dis),argMax,flag)\n",
    "mergeData['bias']=mergeData.apply(findBias,axis=1)"
   ]
  },
  {
   "cell_type": "code",
   "execution_count": 16,
   "metadata": {},
   "outputs": [],
   "source": [
    "mergeData['biasDis']=mergeData['bias'].apply(lambda x:x[0])\n",
    "mergeData['biasClass']=mergeData['bias'].apply(lambda x:x[1])\n",
    "mergeData['biasPostive']=mergeData['bias'].apply(lambda x:x[2])"
   ]
  },
  {
   "cell_type": "code",
   "execution_count": 17,
   "metadata": {},
   "outputs": [],
   "source": [
    "biasData=equalStdData.join(mergeData[['biasDis','biasClass','biasPostive']])[['isBias','biasDis','biasClass','biasPostive']]\n",
    "data['class']=data['Index'].apply(lambda x:x[0])\n",
    "biasData=biasData.join(data[['Sex','class']])"
   ]
  },
  {
   "cell_type": "code",
   "execution_count": 18,
   "metadata": {
    "tags": []
   },
   "outputs": [
    {
     "output_type": "stream",
     "name": "stdout",
     "text": "biasClass     0   1   2\nbiasPostive            \nFalse        54  24  21\nTrue         21  25  31\n"
    },
    {
     "output_type": "execute_result",
     "data": {
      "text/plain": "(13.931159452792105,\n 0.0009438156221673181,\n 2,\n array([[42.1875, 27.5625, 29.25  ],\n        [32.8125, 21.4375, 22.75  ]]))"
     },
     "metadata": {},
     "execution_count": 18
    }
   ],
   "source": [
    "#已经偏科的人，偏科的科目和偏科是优势还是劣势不独立\n",
    "classPostiveData=biasData[biasData['isBias']>0].groupby(['biasClass','biasPostive'])['biasDis'].count().reset_index()\n",
    "temp=classPostiveData.pivot(index='biasPostive',columns='biasClass',values='biasDis')\n",
    "print(temp)\n",
    "stats.chi2_contingency(temp)"
   ]
  },
  {
   "cell_type": "code",
   "execution_count": 19,
   "metadata": {
    "tags": []
   },
   "outputs": [
    {
     "output_type": "stream",
     "name": "stdout",
     "text": "Sex      F   M\nisBias        \nFalse   26  34\nTrue    83  85\n(0.4324735398746665, 0.5107777093228676, 1, array([[28.68421053, 31.31578947],\n       [80.31578947, 87.68421053]]))\n"
    }
   ],
   "source": [
    "#偏科与性别无关\n",
    "classPostiveData=biasData.groupby(['isBias','Sex'])['biasDis'].count().reset_index()\n",
    "temp=classPostiveData.pivot(index='isBias',columns='Sex',values='biasDis')\n",
    "print(temp)\n",
    "print(stats.chi2_contingency(temp))"
   ]
  },
  {
   "cell_type": "code",
   "execution_count": 20,
   "metadata": {
    "tags": []
   },
   "outputs": [
    {
     "output_type": "stream",
     "name": "stdout",
     "text": "class    A   B   C   D   E   F   G\nisBias                            \nFalse   19  14   3   7  12   6   5\nTrue    22  28  33  24  20  24  25\n(19.337429517440334, 0.0036301423671016584, 6, array([[11.18181818, 11.45454545,  9.81818182,  8.45454545,  8.72727273,\n         8.18181818,  8.18181818],\n       [29.81818182, 30.54545455, 26.18181818, 22.54545455, 23.27272727,\n        21.81818182, 21.81818182]]))\n"
    }
   ],
   "source": [
    "classPostiveData=biasData.groupby(['isBias','class'])['biasDis'].count().reset_index()\n",
    "temp=classPostiveData.pivot(index='isBias',columns='class',values='biasDis')\n",
    "print(temp)\n",
    "print(stats.chi2_contingency(temp))"
   ]
  },
  {
   "cell_type": "code",
   "execution_count": 21,
   "metadata": {
    "tags": []
   },
   "outputs": [
    {
     "output_type": "stream",
     "name": "stdout",
     "text": "biasClass   0   1   2\nSex                  \nF          29  22  32\nM          43  22  20\n(5.468418470261134, 0.06494534329967876, 2, array([[35.57142857, 21.73809524, 25.69047619],\n       [36.42857143, 22.26190476, 26.30952381]]))\nbiasClass   0   1   2\nSex                  \nF          12   8  19\nM           8  16  12\n(4.935208161014613, 0.08478776048478087, 2, array([[10.4 , 12.48, 16.12],\n       [ 9.6 , 11.52, 14.88]]))\nbiasClass   0   1   2\nSex                  \nF          17  14  13\nM          35   6   8\n(10.382438734734652, 0.005565216632344224, 2, array([[24.60215054,  9.46236559,  9.93548387],\n       [27.39784946, 10.53763441, 11.06451613]]))\n"
    }
   ],
   "source": [
    "# 已经偏科的人，偏科科目和性别无关\n",
    "#但劣势科目，性别和科目有关\n",
    "classPostiveData=biasData[biasData['isBias']>0].groupby(['biasClass','Sex'])['biasDis'].count().reset_index()\n",
    "temp=classPostiveData.pivot(index='Sex',columns='biasClass',values='biasDis')\n",
    "print(temp)\n",
    "print(stats.chi2_contingency(temp))\n",
    "classPostiveData=biasData[(biasData['isBias']>0)&(biasData['biasPostive']>0)].groupby(['biasClass','Sex'])['biasDis'].count().reset_index()\n",
    "temp=classPostiveData.pivot(index='Sex',columns='biasClass',values='biasDis')\n",
    "print(temp)\n",
    "print(stats.chi2_contingency(temp))\n",
    "classPostiveData=biasData[(biasData['isBias']>0)&(biasData['biasPostive']==0)].groupby(['biasClass','Sex'])['biasDis'].count().reset_index()\n",
    "temp=classPostiveData.pivot(index='Sex',columns='biasClass',values='biasDis')\n",
    "print(temp)\n",
    "print(stats.chi2_contingency(temp))"
   ]
  },
  {
   "cell_type": "code",
   "execution_count": 24,
   "metadata": {},
   "outputs": [
    {
     "output_type": "execute_result",
     "data": {
      "text/plain": "          isBias       dis    lesson      prep\nisBias  1.000000  0.633400  0.092605 -0.076102\ndis     0.633400  1.000000  0.028772 -0.058227\nlesson  0.092605  0.028772  1.000000  0.259407\nprep   -0.076102 -0.058227  0.259407  1.000000",
      "text/html": "<div>\n<style scoped>\n    .dataframe tbody tr th:only-of-type {\n        vertical-align: middle;\n    }\n\n    .dataframe tbody tr th {\n        vertical-align: top;\n    }\n\n    .dataframe thead th {\n        text-align: right;\n    }\n</style>\n<table border=\"1\" class=\"dataframe\">\n  <thead>\n    <tr style=\"text-align: right;\">\n      <th></th>\n      <th>isBias</th>\n      <th>dis</th>\n      <th>lesson</th>\n      <th>prep</th>\n    </tr>\n  </thead>\n  <tbody>\n    <tr>\n      <th>isBias</th>\n      <td>1.000000</td>\n      <td>0.633400</td>\n      <td>0.092605</td>\n      <td>-0.076102</td>\n    </tr>\n    <tr>\n      <th>dis</th>\n      <td>0.633400</td>\n      <td>1.000000</td>\n      <td>0.028772</td>\n      <td>-0.058227</td>\n    </tr>\n    <tr>\n      <th>lesson</th>\n      <td>0.092605</td>\n      <td>0.028772</td>\n      <td>1.000000</td>\n      <td>0.259407</td>\n    </tr>\n    <tr>\n      <th>prep</th>\n      <td>-0.076102</td>\n      <td>-0.058227</td>\n      <td>0.259407</td>\n      <td>1.000000</td>\n    </tr>\n  </tbody>\n</table>\n</div>"
     },
     "metadata": {},
     "execution_count": 24
    }
   ],
   "source": [
    "biasData.rename(columns={'biasDis':'dis','biasClass':'lesson','biasPostive':'prep'},inplace=True)\n",
    "biasData.corr(method='spearman')"
   ]
  },
  {
   "cell_type": "code",
   "execution_count": null,
   "metadata": {},
   "outputs": [],
   "source": []
  }
 ],
 "metadata": {
  "language_info": {
   "codemirror_mode": {
    "name": "ipython",
    "version": 3
   },
   "file_extension": ".py",
   "mimetype": "text/x-python",
   "name": "python",
   "nbconvert_exporter": "python",
   "pygments_lexer": "ipython3",
   "version": "3.7.6-final"
  },
  "orig_nbformat": 2,
  "kernelspec": {
   "name": "python3",
   "display_name": "Python 3"
  }
 },
 "nbformat": 4,
 "nbformat_minor": 2
}