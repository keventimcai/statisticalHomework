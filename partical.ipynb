{
 "cells": [
  {
   "cell_type": "code",
   "execution_count": 1,
   "metadata": {},
   "outputs": [],
   "source": [
    "import pandas as pd\n",
    "import numpy as np\n",
    "import scipy.stats as stats\n",
    "import matplotlib as plt"
   ]
  },
  {
   "cell_type": "code",
   "execution_count": 2,
   "metadata": {},
   "outputs": [],
   "source": [
    "data=pd.read_csv(\"Score.csv\")\n",
    "#data"
   ]
  },
  {
   "cell_type": "code",
   "execution_count": 3,
   "metadata": {
    "tags": []
   },
   "outputs": [],
   "source": [
    "col=np.array(data.columns)\n",
    "col=np.delete(col,range(3))\n",
    "#col"
   ]
  },
  {
   "cell_type": "code",
   "execution_count": 4,
   "metadata": {
    "tags": []
   },
   "outputs": [
    {
     "output_type": "execute_result",
     "data": {
      "text/plain": "'\\nmaxScore1=[100 for i in range(36)]\\nmaxScore2=[150,150,150,100,150,150,150,100,60,150,150,150,100,100,150,150,150,90,60]\\nmaxScore=maxScore1+maxScore2\\n'"
     },
     "metadata": {},
     "execution_count": 4
    }
   ],
   "source": [
    "'''\n",
    "maxScore1=[100 for i in range(36)]\n",
    "maxScore2=[150,150,150,100,150,150,150,100,60,150,150,150,100,100,150,150,150,90,60]\n",
    "maxScore=maxScore1+maxScore2\n",
    "'''"
   ]
  },
  {
   "cell_type": "code",
   "execution_count": 5,
   "metadata": {},
   "outputs": [],
   "source": [
    "transDataDict={}\n",
    "for i in range(55):\n",
    "    temp=(data[col[i]]-np.mean(data[col[i]]))/(np.max(data[col[i]])-np.min(data[col[i]]))\n",
    "    transDataDict[col[i]]=temp\n",
    "transData=pd.DataFrame.from_dict(transDataDict)\n",
    "del transDataDict"
   ]
  },
  {
   "cell_type": "code",
   "execution_count": 6,
   "metadata": {},
   "outputs": [],
   "source": [
    "mergeData=transData.apply(lambda x:[x['CHI611'],x['CHI612'],x['CHI621'],x['CHI622'],\n",
    "x['CHI711'],x['CHI712'],x['CHI721'],x['CHI722'],\n",
    "x['CHI811'],x['CHI812'],x['CHI821'],x['CHI822'],\n",
    "x['CHI911'],x['CHI912'],x['CHI921']],axis=1)\n",
    "mergeData=pd.DataFrame(mergeData,columns=['CHI'])\n",
    "mergeData['CHINoNan']=mergeData['CHI'].apply(lambda x:[i for i in x if not np.isnan(i)])\n",
    "mergeData['CHILen']=mergeData['CHINoNan'].apply(lambda x:len(x))"
   ]
  },
  {
   "cell_type": "code",
   "execution_count": 7,
   "metadata": {},
   "outputs": [],
   "source": [
    "def merge(x,col):\n",
    "    if col in ['MATH','ENG']:\n",
    "        x[col]=transData.apply(lambda x:[x[col+'611'],x[col+'612'],x[col+'621'],x[col+'622'],\n",
    "        x[col+'711'],x[col+'712'],x[col+'721'],x[col+'722'],\n",
    "        x[col+'811'],x[col+'812'],x[col+'821'],x[col+'822'],\n",
    "        x[col+'911'],x[col+'912'],x[col+'921']],axis=1)\n",
    "    elif col == 'PHY':\n",
    "        x[col]=transData.apply(lambda x:[x[col+'811'],x[col+'812'],x[col+'821'],x[col+'822'],\n",
    "        x[col+'911'],x[col+'912'],x[col+'921']],axis=1)\n",
    "    elif col == 'CHE':\n",
    "        x[col]=transData.apply(lambda x:[x[col+'911'],x[col+'912'],x[col+'921']],axis=1)\n",
    "def NoNan(x,col):\n",
    "    x[col+'NoNan']=x[col].apply(lambda x:[i for i in x if not np.isnan(i)])\n",
    "    x[col+'Len']=x[col+'NoNan'].apply(lambda x:len(x))\n",
    "def delOrigin(x,col):\n",
    "    x.drop([col],axis=1,inplace=True)\n",
    "\n",
    "delOrigin(mergeData,'CHI')\n",
    "\n",
    "for i in ['MATH','ENG','PHY','CHE']:\n",
    "    merge(mergeData,i)\n",
    "    NoNan(mergeData,i)\n",
    "    delOrigin(mergeData,i)"
   ]
  },
  {
   "cell_type": "code",
   "execution_count": 8,
   "metadata": {
    "tags": []
   },
   "outputs": [],
   "source": [
    "def normTest(x,col):\n",
    "    if x[col+'Len']>=3:\n",
    "        return stats.shapiro(x[col+'NoNan'])\n",
    "    else:\n",
    "        return (-1,-1)\n",
    "\n",
    "for i in ['CHI','MATH','ENG']:\n",
    "    mergeData[i+'Norm']=mergeData.apply(lambda x:normTest(x,i),axis=1)"
   ]
  },
  {
   "cell_type": "code",
   "execution_count": 9,
   "metadata": {},
   "outputs": [],
   "source": [
    "def stdTest(df):\n",
    "    temp=df[['CHINoNan','MATHNoNan','ENGNoNan']].values\n",
    "    return stats.levene(temp[0],temp[1],temp[2])\n",
    "mergeData['stdTest']=mergeData.apply(stdTest,axis=1)"
   ]
  },
  {
   "cell_type": "code",
   "execution_count": 10,
   "metadata": {},
   "outputs": [],
   "source": [
    "equalStdData=mergeData[mergeData['stdTest'].apply(lambda x:x[1]>0.05)].copy()"
   ]
  },
  {
   "cell_type": "code",
   "execution_count": 11,
   "metadata": {},
   "outputs": [],
   "source": [
    "def oneWay(df):\n",
    "    temp=df[['CHINoNan','MATHNoNan','ENGNoNan']].values\n",
    "    return stats.f_oneway(temp[0],temp[1],temp[2])\n",
    "equalStdData['oneWay']=equalStdData.apply(oneWay,axis=1)"
   ]
  },
  {
   "cell_type": "code",
   "execution_count": 12,
   "metadata": {},
   "outputs": [
    {
     "output_type": "execute_result",
     "data": {
      "text/plain": "54"
     },
     "metadata": {},
     "execution_count": 12
    }
   ],
   "source": [
    "len(equalStdData[equalStdData['oneWay'].apply(lambda x:x[1]>0.05)])"
   ]
  },
  {
   "cell_type": "code",
   "execution_count": 13,
   "metadata": {},
   "outputs": [],
   "source": [
    "equalStdData['isBias']=equalStdData['oneWay'].apply(lambda x:x[1]<0.05)"
   ]
  },
  {
   "cell_type": "code",
   "execution_count": 14,
   "metadata": {},
   "outputs": [],
   "source": [
    "sexBiasCount=equalStdData.join(data['Sex'])\n",
    "sexBiasCount=sexBiasCount.groupby(['Sex','isBias'])['CHINoNan'].count().reset_index()\n",
    "sexBiasCount.rename(columns={'CHINoNan':'count'},inplace=True)\n",
    "sexBiasCount=sexBiasCount.pivot(index='Sex',columns='isBias',values='count')"
   ]
  },
  {
   "cell_type": "code",
   "execution_count": 15,
   "metadata": {},
   "outputs": [
    {
     "output_type": "execute_result",
     "data": {
      "text/plain": "isBias  False  True \nSex                 \nF          23     64\nM          25     71",
      "text/html": "<div>\n<style scoped>\n    .dataframe tbody tr th:only-of-type {\n        vertical-align: middle;\n    }\n\n    .dataframe tbody tr th {\n        vertical-align: top;\n    }\n\n    .dataframe thead th {\n        text-align: right;\n    }\n</style>\n<table border=\"1\" class=\"dataframe\">\n  <thead>\n    <tr style=\"text-align: right;\">\n      <th>isBias</th>\n      <th>False</th>\n      <th>True</th>\n    </tr>\n    <tr>\n      <th>Sex</th>\n      <th></th>\n      <th></th>\n    </tr>\n  </thead>\n  <tbody>\n    <tr>\n      <th>F</th>\n      <td>23</td>\n      <td>64</td>\n    </tr>\n    <tr>\n      <th>M</th>\n      <td>25</td>\n      <td>71</td>\n    </tr>\n  </tbody>\n</table>\n</div>"
     },
     "metadata": {},
     "execution_count": 15
    }
   ],
   "source": [
    "sexBiasCount"
   ]
  },
  {
   "cell_type": "code",
   "execution_count": 16,
   "metadata": {},
   "outputs": [
    {
     "output_type": "execute_result",
     "data": {
      "text/plain": "(0.011571704382183943,\n 0.9143353224117214,\n 1,\n array([[22.81967213, 64.18032787],\n        [25.18032787, 70.81967213]]))"
     },
     "metadata": {},
     "execution_count": 16
    }
   ],
   "source": [
    "stats.chi2_contingency(sexBiasCount)"
   ]
  },
  {
   "cell_type": "code",
   "execution_count": 17,
   "metadata": {},
   "outputs": [],
   "source": [
    "for i in ['CHI','MATH','ENG']:\n",
    "    mergeData[i+'Mean']=mergeData[i+'NoNan'].apply(np.mean)"
   ]
  },
  {
   "cell_type": "code",
   "execution_count": 18,
   "metadata": {},
   "outputs": [],
   "source": [
    "def findBias(df):\n",
    "    meanCol=['CHIMean','MATHMean','ENGMean']\n",
    "    dis=np.zeros(3)\n",
    "    maxScoreLesson=np.argmax(df[meanCol])\n",
    "    for i in range(3):\n",
    "        temp=0\n",
    "        for j in meanCol:\n",
    "            temp+=np.abs(df[meanCol[i]]-df[j])\n",
    "        dis[i]=temp\n",
    "    argMax=np.argmax(dis)\n",
    "    flag=(maxScoreLesson==argMax)\n",
    "    return (np.max(dis),argMax,flag)\n",
    "mergeData['bias']=mergeData.apply(findBias,axis=1)"
   ]
  },
  {
   "cell_type": "code",
   "execution_count": 19,
   "metadata": {},
   "outputs": [],
   "source": [
    "mergeData['biasDis']=mergeData['bias'].apply(lambda x:x[0])\n",
    "mergeData['biasClass']=mergeData['bias'].apply(lambda x:x[1])\n",
    "mergeData['biasPostive']=mergeData['bias'].apply(lambda x:x[2])"
   ]
  },
  {
   "cell_type": "code",
   "execution_count": 20,
   "metadata": {},
   "outputs": [],
   "source": [
    "biasData=equalStdData.join(mergeData[['biasDis','biasClass','biasPostive']])[['isBias','biasDis','biasClass','biasPostive']]\n",
    "biasData=biasData.join(data['Sex'])"
   ]
  },
  {
   "cell_type": "code",
   "execution_count": 21,
   "metadata": {
    "tags": []
   },
   "outputs": [
    {
     "output_type": "stream",
     "name": "stdout",
     "text": "biasClass     0   1   2\nbiasPostive            \nFalse        40  19  18\nTrue         19  23  24\n"
    },
    {
     "output_type": "execute_result",
     "data": {
      "text/plain": "(7.913342173027404,\n 0.01912667949269471,\n 2,\n array([[31.76923077, 22.61538462, 22.61538462],\n        [27.23076923, 19.38461538, 19.38461538]]))"
     },
     "metadata": {},
     "execution_count": 21
    }
   ],
   "source": [
    "classPostiveData=biasData[biasData['isBias']>0].groupby(['biasClass','biasPostive'])['biasDis'].count().reset_index()\n",
    "temp=classPostiveData.pivot(index='biasPostive',columns='biasClass',values='biasDis')\n",
    "print(temp)\n",
    "stats.chi2_contingency(temp)"
   ]
  },
  {
   "cell_type": "code",
   "execution_count": 22,
   "metadata": {
    "tags": []
   },
   "outputs": [
    {
     "output_type": "stream",
     "name": "stdout",
     "text": "biasClass     0   1   2\nbiasPostive            \nFalse        40  19  18\nTrue         19  23  24\n"
    },
    {
     "output_type": "execute_result",
     "data": {
      "text/plain": "(7.913342173027404,\n 0.01912667949269471,\n 2,\n array([[31.76923077, 22.61538462, 22.61538462],\n        [27.23076923, 19.38461538, 19.38461538]]))"
     },
     "metadata": {},
     "execution_count": 22
    }
   ],
   "source": [
    "#已经偏科的人，偏科的科目和偏科是优势还是劣势不独立\n",
    "classPostiveData=biasData[biasData['isBias']>0].groupby(['biasClass','biasPostive'])['biasDis'].count().reset_index()\n",
    "temp=classPostiveData.pivot(index='biasPostive',columns='biasClass',values='biasDis')\n",
    "print(temp)\n",
    "stats.chi2_contingency(temp)"
   ]
  },
  {
   "cell_type": "code",
   "execution_count": 23,
   "metadata": {},
   "outputs": [
    {
     "output_type": "execute_result",
     "data": {
      "text/plain": "(1.1825275261282586,\n 0.5536271888574527,\n 2,\n array([[ 8.63829787, 10.12765957,  9.23404255],\n        [20.36170213, 23.87234043, 21.76595745]]))"
     },
     "metadata": {},
     "execution_count": 23
    }
   ],
   "source": [
    "classPostiveData=biasData[biasData['biasPostive']>0].groupby(['isBias','biasClass'])['biasDis'].count().reset_index()\n",
    "temp=classPostiveData.pivot(index='isBias',columns='biasClass',values='biasDis')\n",
    "stats.chi2_contingency(temp)"
   ]
  },
  {
   "cell_type": "code",
   "execution_count": 24,
   "metadata": {
    "tags": []
   },
   "outputs": [
    {
     "output_type": "error",
     "ename": "SyntaxError",
     "evalue": "invalid syntax (<ipython-input-24-cb28c9079fde>, line 1)",
     "traceback": [
      "\u001b[1;36m  File \u001b[1;32m\"<ipython-input-24-cb28c9079fde>\"\u001b[1;36m, line \u001b[1;32m1\u001b[0m\n\u001b[1;33m    classPostiveData=biasData[.groupby(['isBias','biasClass'])['biasDis'].count().reset_index()\u001b[0m\n\u001b[1;37m                              ^\u001b[0m\n\u001b[1;31mSyntaxError\u001b[0m\u001b[1;31m:\u001b[0m invalid syntax\n"
     ]
    }
   ],
   "source": [
    "classPostiveData=biasData[.groupby(['isBias','biasClass'])['biasDis'].count().reset_index()\n",
    "temp=classPostiveData.pivot(index='isBias',columns='biasClass',values='biasDis')\n",
    "print(temp)\n",
    "print(stats.chi2_contingency(temp))"
   ]
  },
  {
   "cell_type": "code",
   "execution_count": 25,
   "metadata": {
    "tags": []
   },
   "outputs": [
    {
     "output_type": "stream",
     "name": "stdout",
     "text": "biasClass   0   1   2\nSex                  \nF          23  17  24\nM          33  20  18\nbiasClass   0   1   2\nSex                  \nF          11   8  14\nM           7  14  10\nbiasClass   0  1   2\nSex                 \nF          12  9  10\nM          26  6   8\n"
    },
    {
     "output_type": "execute_result",
     "data": {
      "text/plain": "(4.918300320694208,\n 0.08550758783687076,\n 2,\n array([[16.5915493 ,  6.54929577,  7.85915493],\n        [21.4084507 ,  8.45070423, 10.14084507]]))"
     },
     "metadata": {},
     "execution_count": 25
    }
   ],
   "source": [
    "# 已经偏科的人，偏科科目和性别无关\n",
    "classPostiveData=biasData[biasData['isBias']>0].groupby(['biasClass','Sex'])['biasDis'].count().reset_index()\n",
    "temp=classPostiveData.pivot(index='Sex',columns='biasClass',values='biasDis')\n",
    "print(temp)\n",
    "stats.chi2_contingency(temp)\n",
    "classPostiveData=biasData[(biasData['isBias']>0)&(biasData['biasPostive']>0)].groupby(['biasClass','Sex'])['biasDis'].count().reset_index()\n",
    "temp=classPostiveData.pivot(index='Sex',columns='biasClass',values='biasDis')\n",
    "print(temp)\n",
    "stats.chi2_contingency(temp)\n",
    "classPostiveData=biasData[(biasData['isBias']>0)&(biasData['biasPostive']==0)].groupby(['biasClass','Sex'])['biasDis'].count().reset_index()\n",
    "temp=classPostiveData.pivot(index='Sex',columns='biasClass',values='biasDis')\n",
    "print(temp)\n",
    "stats.chi2_contingency(temp)"
   ]
  },
  {
   "cell_type": "code",
   "execution_count": 26,
   "metadata": {
    "tags": []
   },
   "outputs": [],
   "source": [
    "noEqualStdData=mergeData[mergeData['stdTest'].apply(lambda x:x[1]<0.05)].copy()"
   ]
  },
  {
   "cell_type": "code",
   "execution_count": 27,
   "metadata": {},
   "outputs": [
    {
     "output_type": "execute_result",
     "data": {
      "text/plain": "\"\\nfor i in ['CHI','MATH','ENG']:\\n    noEqualStdData[i+'Std']=mergeData[i+'NoNan'].apply(np.std)\\nnoEqualStdData[['CHIMean','MATHMean','ENGMean','CHIStd','MATHStd','ENGStd']]\\n\""
     },
     "metadata": {},
     "execution_count": 27
    }
   ],
   "source": [
    "'''\n",
    "for i in ['CHI','MATH','ENG']:\n",
    "    noEqualStdData[i+'Std']=mergeData[i+'NoNan'].apply(np.std)\n",
    "noEqualStdData[['CHIMean','MATHMean','ENGMean','CHIStd','MATHStd','ENGStd']]\n",
    "'''"
   ]
  },
  {
   "cell_type": "code",
   "execution_count": 28,
   "metadata": {},
   "outputs": [],
   "source": [
    "def kruskal(df):\n",
    "    temp=df[['CHINoNan','MATHNoNan','ENGNoNan']].values\n",
    "    return stats.kruskal(temp[0],temp[1],temp[2])\n",
    "noEqualStdData['kruskal']=noEqualStdData.apply(kruskal,axis=1)\n",
    "noEqualStdData['isBias']=noEqualStdData['kruskal'].apply(lambda x:x[1]<0.05)"
   ]
  },
  {
   "cell_type": "code",
   "execution_count": 29,
   "metadata": {},
   "outputs": [],
   "source": []
  },
  {
   "cell_type": "code",
   "execution_count": 44,
   "metadata": {},
   "outputs": [
    {
     "output_type": "execute_result",
     "data": {
      "text/plain": "0      False\n1       True\n2       True\n3      False\n4       True\n       ...  \n237     True\n238     True\n239    False\n240     True\n241     True\nName: isBias, Length: 242, dtype: bool"
     },
     "metadata": {},
     "execution_count": 44
    }
   ],
   "source": [
    "isBias=pd.concat([noEqualStdData['isBias'],equalStdData['isBias']],axis=0,ignore_index=True)\n",
    "data.merge()"
   ]
  },
  {
   "cell_type": "code",
   "execution_count": 51,
   "metadata": {},
   "outputs": [
    {
     "output_type": "execute_result",
     "data": {
      "text/plain": "18421052631578946, 0.1342288011695906, 0.08...        4   \n171  [-0.1736842105263158, -0.1782711988304094, -0....        4   \n182  [-0.18199841395717692, -0.3162878787878788, -0...        6   \n183  [0.04736842105263158, 0.06131213450292394, 0.1...        4   \n184  [0.1, -0.02202119883040939, 0.0059488692232054...        4   \n186  [-0.04736842105263158, -0.1782711988304094, -0...        7   \n188  [-0.07894736842105263, -0.02202119883040939, -...        7   \n189  [-0.20526315789473684, -0.04285453216374272, 0...        7   \n197  [0.08947368421052632, 0.04047880116959061, 0.0...        7   \n199  [-0.03684210526315789, -0.16785453216374271, -...        7   \n201  [-0.14210526315789473, -0.19910453216374271, -...        7   \n205  [-0.3, -0.19910453216374271, -0.13849557522123...        7   \n206       [-0.32105263157894737, -0.23035453216374271]        2   \n210  [-0.1, -0.19910453216374271, -0.09405113077679...        7   \n211  [0.06842105263157895, -0.05327119883040939, -0...        6   \n212  [-0.8052631578947368, -0.7824378654970761, -0....        3   \n214  [-0.07894736842105263, -0.07410453216374273, -...        4   \n215  [-0.015789473684210527, -0.06368786549707606, ...        4   \n221  [-0.2578947368421053, -0.42827119883040937, -0...        7   \n227  [-0.12105263157894737, -0.07410453216374273, -...        7   \n229  [-0.005263157894736842, -0.08452119883040939, ...        4   \n234  [-0.19473684210526315, -0.19910453216374271, -...        7   \n235  [-0.18421052631578946, -0.15743786549707606, 0...        7   \n240  [-0.005263157894736842, -0.10535453216374273, ...        7   \n\n                                              ENGNoNan  ENGLen  \\\n11   [0.1267056530214424, 0.21802131912058625, 0.17...       4   \n35   [-0.0955165692007798, -0.2503331112591606, -0....       4   \n75   [0.003248862897985622, -0.03514323784143905, -...       7   \n76   [0.10201429499675105, 0.1294137241838774, 0.14...       4   \n77   [0.19926905673512005, 0.1935583597987691, 0.08...       3   \n82   [0.19841628959276014, 0.19738854895104893, 0.2...       7   \n106                                                 []       0   \n125  [0.052631578947368335, -0.06045969353764158, 0...       7   \n129  [0.13905133203378808, 0.06612258494337107, 0.0...       7   \n150  [-0.09570135746606337, -0.029884178321678334, ...       7   \n156  [0.06497725795971401, 0.18004663557628248, 0.1...       7   \n157  [-0.2189733593242366, -0.17438374417055297, -0...       4   \n159  [-0.10786224821312548, -0.07311792138574284, -...       4   \n167  [-0.10786224821312548, -0.06045969353764158, 0...       7   \n168  [0.015594541910331302, -0.022485009993337784, ...       4   \n171  [-0.16959064327485388, -0.22501665556295805, -...       4   \n182  [-0.0015837104072398448, 0.04966127622377621, ...       6   \n183  [0.003248862897985622, -0.047801465689540315, ...       4   \n184  [-0.13255360623781684, -0.14906728847435044, -...       4   \n186  [-0.1572449642625082, -0.1364090606262492, -0....       7   \n188  [0.003248862897985622, -0.022485009993337784, ...       7   \n189  [-0.1572449642625082, -0.22501665556295805, -0...       7   \n197  [-0.1572449642625082, -0.11109260493004665, -0...       7   \n199  [-0.14489928525016252, -0.1364090606262492, -0...       7   \n201  [-0.04613385315139709, 0.015489673550966013, -...       7   \n205  [-0.3918128654970761, -0.3389407061958694, -0....       7   \n206        [-0.26835607537361933, -0.2503331112591606]       2   \n210  [-0.2066276803118909, -0.12375083277814791, -0...       7   \n211  [-0.05847953216374277, -0.022485009993337784, ...       7   \n212  [-0.7498375568551008, -0.7440039973351099, -0....       3   \n214  [-0.04613385315139709, -0.22501665556295805, -...       4   \n215  [-0.07082521117608845, -0.09843437708194538, -...       4   \n221  [-0.4411955815464588, -0.3515989340439707, -0....       7   \n227  [-0.07082521117608845, -0.009826782145236518, ...       7   \n229  [-0.1572449642625082, -0.12375083277814791, -0...       4   \n234  [-0.03378817413905141, 0.0914390406395736, -0....       7   \n235  [0.003248862897985622, 0.015489673550966013, 0...       7   \n240  [-0.31773879142300204, -0.37691538974017325, -...       7   \n\n                                              PHYNoNan  PHYLen  \\\n11                                                  []       0   \n35                                                  []       0   \n75                                                  []       0   \n76                                                  []       0   \n77                                                  []       0   \n82   [0.23720810439560427, 0.1592242503259453, 0.28...       7   \n106                                                 []       0   \n125                                                 []       0   \n129                                                 []       0   \n150  [-0.35207760989011, -0.23060625814863095, -0.0...       7   \n156                                                 []       0   \n157                                                 []       0   \n159                                                 []       0   \n167                                                 []       0   \n168                                                 []       0   \n171                                                 []       0   \n182  [-0.15564903846153857, -0.07806388526727502, -...       6   \n183                                                 []       0   \n184                                                 []       0   \n186                                                 []       0   \n188                                                 []       0   \n189                                                 []       0   \n197                                                 []       0   \n199                                                 []       0   \n201                                                 []       0   \n205                                                 []       0   \n206                                                 []       0   \n210                                                 []       0   \n211                                                 []       0   \n212                                                 []       0   \n214                                                 []       0   \n215                                                 []       0   \n221                                                 []       0   \n227                                                 []       0   \n229                                                 []       0   \n234                                                 []       0   \n235                                                 []       0   \n240                                                 []       0   \n\n                                              CHENoNan  CHELen  ...  \\\n11                                                  []       0  ...   \n35                                                  []       0  ...   \n75                                                  []       0  ...   \n76                                                  []       0  ...   \n77                                                  []       0  ...   \n82   [0.24336538461538465, 0.14726928016635074, 0.1...       3  ...   \n106                                                 []       0  ...   \n125                                                 []       0  ...   \n129                                                 []       0  ...   \n150  [0.05105769230769233, 0.03883554522659171, -0....       3  ...   \n156                                                 []       0  ...   \n157                                                 []       0  ...   \n159                                                 []       0  ...   \n167                                                 []       0  ...   \n168                                                 []       0  ...   \n171                                                 []       0  ...   \n182                   [-0.14125, -0.17803192465292636]       2  ...   \n183                                                 []       0  ...   \n184                                                 []       0  ...   \n186                                                 []       0  ...   \n188                                                 []       0  ...   \n189                                                 []       0  ...   \n197                                                 []       0  ...   \n199                                                 []       0  ...   \n201                                                 []       0  ...   \n205                                                 []       0  ...   \n206                                                 []       0  ...   \n210                                                 []       0  ...   \n211                                                 []       0  ...   \n212                                                 []       0  ...   \n214                                                 []       0  ...   \n215                                                 []       0  ...   \n221                                                 []       0  ...   \n227                                                 []       0  ...   \n229                                                 []       0  ...   \n234                                                 []       0  ...   \n235                                                 []       0  ...   \n240                                                 []       0  ...   \n\n                                       MATHNorm  \\\n11    (0.8320170640945435, 0.17312289774417877)   \n35   (0.7149626016616821, 0.017109088599681854)   \n75     (0.9532236456871033, 0.7589210867881775)   \n76       (0.95697021484375, 0.7598424553871155)   \n77     (0.853529691696167, 0.24993479251861572)   \n82        (0.9884002804756165, 0.9898721575737)   \n106                                    (-1, -1)   \n125    (0.9050085544586182, 0.3623952269554138)   \n129    (0.9363880753517151, 0.6064329147338867)   \n150   (0.8689687252044678, 0.18180660903453827)   \n156     (0.9692533612251282, 0.893018901348114)   \n157    (0.9267513751983643, 0.5754396915435791)   \n159   (0.8008828163146973, 0.10381238907575607)   \n167     (0.9470332860946655, 0.702638566493988)   \n168   (0.9041651487350464, 0.45204100012779236)   \n171  (0.7178722620010376, 0.018394356593489647)   \n182     (0.889032244682312, 0.3131483495235443)   \n183   (0.9095839858055115, 0.48020070791244507)   \n184    (0.9611393213272095, 0.7860771417617798)   \n186    (0.9748400449752808, 0.9309514164924622)   \n188    (0.9515592455863953, 0.7438694834709167)   \n189      (0.96474289894104, 0.8582416772842407)   \n197    (0.9613876938819885, 0.8305485248565674)   \n199    (0.9325746893882751, 0.5730037093162537)   \n201   (0.8863075971603394, 0.25595080852508545)   \n205    (0.9239739179611206, 0.5008918642997742)   \n206                                    (-1, -1)   \n210    (0.8600993752479553, 0.1517004519701004)   \n211   (0.8398475646972656, 0.12998627126216888)   \n212    (0.926732063293457, 0.47650691866874695)   \n214     (0.937450647354126, 0.6388441324234009)   \n215   (0.9032293558120728, 0.44727635383605957)   \n221    (0.9205396175384521, 0.4735959768295288)   \n227    (0.9775677919387817, 0.9469218254089355)   \n229    (0.9914299845695496, 0.9646774530410767)   \n234    (0.9239782691001892, 0.5009269118309021)   \n235    (0.9387817978858948, 0.6277729868888855)   \n240    (0.9318311214447021, 0.5665789842605591)   \n\n                                        ENGNorm  \\\n11     (0.8823816180229187, 0.3489076793193817)   \n35     (0.9721591472625732, 0.8548051118850708)   \n75     (0.9593520164489746, 0.8131561875343323)   \n76    (0.8830317854881287, 0.35174646973609924)   \n77    (0.7873522043228149, 0.08464788645505905)   \n82   (0.7362639904022217, 0.009097964502871037)   \n106                                    (-1, -1)   \n125      (0.83884197473526, 0.0969165787100792)   \n129    (0.9699529409408569, 0.8981099128723145)   \n150  (0.8163676857948303, 0.059236958622932434)   \n156    (0.9498113989830017, 0.7279818654060364)   \n157    (0.9764564037322998, 0.8809529542922974)   \n159     (0.9476038217544556, 0.701181948184967)   \n167   (0.8888747096061707, 0.26884475350379944)   \n168    (0.9959912896156311, 0.9857235550880432)   \n171    (0.9257822632789612, 0.5698369741439819)   \n182   (0.7778171300888062, 0.03677834942936897)   \n183   (0.7614673376083374, 0.04916432872414589)   \n184   (0.8541573882102966, 0.23991063237190247)   \n186    (0.9134905934333801, 0.4205709397792816)   \n188    (0.884905219078064, 0.24912680685520172)   \n189    (0.9625694751739502, 0.8404532074928284)   \n197   (0.8796296715736389, 0.22480925917625427)   \n199    (0.9519096612930298, 0.7470459938049316)   \n201    (0.9328658580780029, 0.5755283236503601)   \n205   (0.8795346617698669, 0.22439049184322357)   \n206                                    (-1, -1)   \n210    (0.9429721832275391, 0.6656192541122437)   \n211    (0.8932361006736755, 0.2919723689556122)   \n212    (0.9425391554832458, 0.5376849174499512)   \n214    (0.8678609728813171, 0.2893774211406708)   \n215   (0.7948793172836304, 0.09334926307201385)   \n221   (0.9140307903289795, 0.42448660731315613)   \n227     (0.9390760064125061, 0.630411684513092)   \n229    (0.9790673851966858, 0.8965270519256592)   \n234    (0.9689463973045349, 0.8907569646835327)   \n235  (0.7503499984741211, 0.012795010581612587)   \n240    (0.9810584783554077, 0.9645172953605652)   \n\n                                             stdTest   CHIMean  MATHMean  \\\n11          (3.665009667123008, 0.06849378201937291)  0.091798  0.113233   \n35           (1.056338024466466, 0.3871750370414262) -0.121809 -0.118744   \n75         (0.05141067481167504, 0.9500274547364366)  0.023393 -0.005724   \n76          (0.6172761212897977, 0.5607657496780332)  0.128687  0.156483   \n77         (0.26629566378844305, 0.7748136820868523)  0.130852  0.116896   \n82         (1.0431677782409738, 0.37268861276630866)  0.173929  0.209188   \n106                                       (nan, nan)  0.098703       NaN   \n125        (1.5331376172118225, 0.24275196819281272) -0.009775  0.049283   \n129          (0.7336606132707865, 0.493965695653951)  0.032353  0.066436   \n150        (1.5892317397572528, 0.23142086391836075) -0.061981  0.026107   \n156         (1.9805808143840102, 0.1669378329793336)  0.112947  0.145690   \n157         (0.6704324099644505, 0.5352854251376623) -0.179273 -0.059385   \n159        (7.260120636303637, 0.013261825722516447) -0.033616  0.025346   \n167        (0.9770293877494436, 0.39552261632922403) -0.011413  0.021612   \n168       (0.029792307033866955, 0.9707424188431039)  0.074612  0.123351   \n171        (0.25823353792152826, 0.7779477340049266) -0.077962 -0.157374   \n182         (0.6336070790871088, 0.5442965247307103) -0.079750 -0.270227   \n183         (0.8627692527483257, 0.4541562694448428)  0.024233  0.098445   \n184         (0.6407179015290695, 0.5493502618218095) -0.075240  0.030055   \n186          (0.175935881039036, 0.8400966509837424) -0.098889 -0.122791   \n188        (0.07676560404273747, 0.9264084347909378)  0.043908 -0.032591   \n189         (1.868739791541514, 0.18305005429251897) -0.038201 -0.050859   \n197         (1.721801654011652, 0.20690580029631683) -0.066441  0.061341   \n199         (0.2616784476567299, 0.7726366329738468) -0.062832 -0.061199   \n201         (1.031358244657682, 0.37665602704542295) -0.002689 -0.200782   \n205        (1.1288225910752967, 0.34526448295566914) -0.177324 -0.264705   \n206  (1.6200964625600406e+30, 8.908930643929517e-46) -0.123614 -0.275704   \n210           (1.292411669611513, 0.298901605762832) -0.172016 -0.140856   \n211         (0.3226084753577738, 0.7285952086151435) -0.081631 -0.045946   \n212        (1.5490755775152036, 0.28681001196937145) -0.766101 -0.767991   \n214        (5.462797998982652, 0.027973084042718626)  0.075993 -0.082892   \n215         (0.2051672199829683, 0.8182170588768458) -0.018697 -0.058851   \n221         (0.8679292124553496, 0.4366649727106638) -0.234113 -0.534506   \n227        (1.6485981778351229, 0.22006482499787317) -0.067355 -0.121120   \n229        (1.8329347783363326, 0.21489867757582815) -0.057933 -0.105689   \n234         (0.2865256628373195, 0.7542289809209275) -0.051255 -0.199434   \n235       (5.8546350932839655, 0.011000810794135238)  0.009738 -0.084382   \n240        (0.49324300129026427, 0.6186588144001129) -0.060083 -0.113906   \n\n      ENGMean                             bias   biasDis  biasClass  \\\n11   0.160064   (0.11509750027795942, 2, True)  0.115098          2   \n35  -0.239675   (0.2387973272717478, 2, False)  0.238797          2   \n75   0.005820   (0.04669004098615128, 0, True)  0.046690          0   \n76   0.132146   (0.05213259432986078, 1, True)  0.052133          1   \n77   0.159244   (0.07073997615668774, 2, True)  0.070740          2   \n82   0.205300  (0.06662963488437487, 0, False)  0.066630          0   \n106       NaN                   (nan, 0, True)       NaN          0   \n125  0.017791   (0.09054912157218456, 1, True)  0.090549          1   \n129  0.030954    (0.0695644684628805, 1, True)  0.069564          1   \n150 -0.050495   (0.16469050475806385, 1, True)  0.164691          1   \n156  0.154072  (0.07386901516869149, 0, False)  0.073869          0   \n157 -0.260365   (0.32086844163883654, 1, True)  0.320868          1   \n159 -0.072768   (0.15707542418095233, 1, True)  0.157075          1   \n167 -0.034868   (0.08950445299889973, 1, True)  0.089504          1   \n168  0.031427   (0.14066266647134879, 1, True)  0.140663          1   \n171 -0.169994   (0.17144229123157897, 0, True)  0.171442          0   \n182  0.027701  (0.48840401327800215, 1, False)  0.488404          1   \n183 -0.032488   (0.20514428941220153, 1, True)  0.205144          1   \n184 -0.120345   (0.25569557494527206, 1, True)  0.255696          1   \n186 -0.205188   (0.1886959891483253, 2, False)  0.188696          2   \n188  0.050694  (0.15978445239778788, 1, False)  0.159784          1   \n189 -0.179733  (0.27040623766729244, 2, False)  0.270406          2   \n197 -0.140080   (0.32920435255824726, 1, True)  0.329204          1   \n199 -0.164151  (0.20427140508021058, 2, False)  0.204271          2   \n201 -0.022386   (0.3764896504613274, 1, False)  0.376490          1   \n205 -0.454805   (0.4675803535259913, 2, False)  0.467580          2   \n206 -0.259345     (0.287820086282097, 0, True)  0.287820          0   \n210 -0.111636  (0.09154062253766151, 0, False)  0.091541          0   \n211 -0.036492  (0.08082440857124722, 0, False)  0.080824          0   \n212 -0.745169   (0.04375483467326069, 2, True)  0.043755          2   \n214 -0.113829   (0.34870580769304427, 0, True)  0.348706          0   \n215 -0.056274   (0.07772991492538855, 0, True)  0.077730          0   \n221 -0.499837    (0.5661168326163641, 0, True)  0.566117          0   \n227 -0.046428   (0.1284568288574363, 1, False)  0.128457          1   \n229 -0.097569   (0.08739231335532431, 0, True)  0.087392          0   \n234 -0.004709  (0.34290309827375076, 1, False)  0.342903          1   \n235  0.025237  (0.20373915567209117, 1, False)  0.203739          1   \n240 -0.271337  (0.36868410756388154, 2, False)  0.368684          2   \n\n     biasPostive  \n11          True  \n35         False  \n75          True  \n76          True  \n77          True  \n82         False  \n106         True  \n125         True  \n129         True  \n150         True  \n156        False  \n157         True  \n159         True  \n167         True  \n168         True  \n171         True  \n182        False  \n183         True  \n184         True  \n186        False  \n188        False  \n189        False  \n197         True  \n199        False  \n201        False  \n205        False  \n206         True  \n210        False  \n211        False  \n212         True  \n214         True  \n215         True  \n221         True  \n227        False  \n229         True  \n234        False  \n235        False  \n240        False  \n\n[38 rows x 21 columns]",
      "text/html": "<div>\n<style scoped>\n    .dataframe tbody tr th:only-of-type {\n        vertical-align: middle;\n    }\n\n    .dataframe tbody tr th {\n        vertical-align: top;\n    }\n\n    .dataframe thead th {\n        text-align: right;\n    }\n</style>\n<table border=\"1\" class=\"dataframe\">\n  <thead>\n    <tr style=\"text-align: right;\">\n      <th></th>\n      <th>CHINoNan</th>\n      <th>CHILen</th>\n      <th>MATHNoNan</th>\n      <th>MATHLen</th>\n      <th>ENGNoNan</th>\n      <th>ENGLen</th>\n      <th>PHYNoNan</th>\n      <th>PHYLen</th>\n      <th>CHENoNan</th>\n      <th>CHELen</th>\n      <th>...</th>\n      <th>MATHNorm</th>\n      <th>ENGNorm</th>\n      <th>stdTest</th>\n      <th>CHIMean</th>\n      <th>MATHMean</th>\n      <th>ENGMean</th>\n      <th>bias</th>\n      <th>biasDis</th>\n      <th>biasClass</th>\n      <th>biasPostive</th>\n    </tr>\n  </thead>\n  <tbody>\n    <tr>\n      <th>11</th>\n      <td>[0.12465734649122817, 0.03987927048548682, 0.0...</td>\n      <td>4</td>\n      <td>[0.11052631578947368, 0.1342288011695906, 0.10...</td>\n      <td>4</td>\n      <td>[0.1267056530214424, 0.21802131912058625, 0.17...</td>\n      <td>4</td>\n      <td>[]</td>\n      <td>0</td>\n      <td>[]</td>\n      <td>0</td>\n      <td>...</td>\n      <td>(0.8320170640945435, 0.17312289774417877)</td>\n      <td>(0.8823816180229187, 0.3489076793193817)</td>\n      <td>(3.665009667123008, 0.06849378201937291)</td>\n      <td>0.091798</td>\n      <td>0.113233</td>\n      <td>0.160064</td>\n      <td>(0.11509750027795942, 2, True)</td>\n      <td>0.115098</td>\n      <td>2</td>\n      <td>True</td>\n    </tr>\n    <tr>\n      <th>35</th>\n      <td>[-0.18784265350877183, -0.10717955304392494, -...</td>\n      <td>4</td>\n      <td>[-0.08947368421052632, -0.08452119883040939, -...</td>\n      <td>4</td>\n      <td>[-0.0955165692007798, -0.2503331112591606, -0....</td>\n      <td>4</td>\n      <td>[]</td>\n      <td>0</td>\n      <td>[]</td>\n      <td>0</td>\n      <td>...</td>\n      <td>(0.7149626016616821, 0.017109088599681854)</td>\n      <td>(0.9721591472625732, 0.8548051118850708)</td>\n      <td>(1.056338024466466, 0.3871750370414262)</td>\n      <td>-0.121809</td>\n      <td>-0.118744</td>\n      <td>-0.239675</td>\n      <td>(0.2387973272717478, 2, False)</td>\n      <td>0.238797</td>\n      <td>2</td>\n      <td>False</td>\n    </tr>\n    <tr>\n      <th>75</th>\n      <td>[-0.03159265350877183, -0.033650141279219066, ...</td>\n      <td>7</td>\n      <td>[-0.04736842105263158, -0.0011878654970760572,...</td>\n      <td>7</td>\n      <td>[0.003248862897985622, -0.03514323784143905, -...</td>\n      <td>7</td>\n      <td>[]</td>\n      <td>0</td>\n      <td>[]</td>\n      <td>0</td>\n      <td>...</td>\n      <td>(0.9532236456871033, 0.7589210867881775)</td>\n      <td>(0.9593520164489746, 0.8131561875343323)</td>\n      <td>(0.05141067481167504, 0.9500274547364366)</td>\n      <td>0.023393</td>\n      <td>-0.005724</td>\n      <td>0.005820</td>\n      <td>(0.04669004098615128, 0, True)</td>\n      <td>0.046690</td>\n      <td>0</td>\n      <td>True</td>\n    </tr>\n    <tr>\n      <th>76</th>\n      <td>[0.20278234649122817, 0.12811456460313386, 0.0...</td>\n      <td>4</td>\n      <td>[0.11052631578947368, 0.1967288011695906, 0.16...</td>\n      <td>4</td>\n      <td>[0.10201429499675105, 0.1294137241838774, 0.14...</td>\n      <td>4</td>\n      <td>[]</td>\n      <td>0</td>\n      <td>[]</td>\n      <td>0</td>\n      <td>...</td>\n      <td>(0.95697021484375, 0.7598424553871155)</td>\n      <td>(0.8830317854881287, 0.35174646973609924)</td>\n      <td>(0.6172761212897977, 0.5607657496780332)</td>\n      <td>0.128687</td>\n      <td>0.156483</td>\n      <td>0.132146</td>\n      <td>(0.05213259432986078, 1, True)</td>\n      <td>0.052133</td>\n      <td>1</td>\n      <td>True</td>\n    </tr>\n    <tr>\n      <th>77</th>\n      <td>[0.11180849511020295, 0.07196724843783675, 0.2...</td>\n      <td>3</td>\n      <td>[0.15082956259426855, 0.09606060606060601, 0.1...</td>\n      <td>3</td>\n      <td>[0.19926905673512005, 0.1935583597987691, 0.08...</td>\n      <td>3</td>\n      <td>[]</td>\n      <td>0</td>\n      <td>[]</td>\n      <td>0</td>\n      <td>...</td>\n      <td>(0.853529691696167, 0.24993479251861572)</td>\n      <td>(0.7873522043228149, 0.08464788645505905)</td>\n      <td>(0.26629566378844305, 0.7748136820868523)</td>\n      <td>0.130852</td>\n      <td>0.116896</td>\n      <td>0.159244</td>\n      <td>(0.07073997615668774, 2, True)</td>\n      <td>0.070740</td>\n      <td>2</td>\n      <td>True</td>\n    </tr>\n    <tr>\n      <th>82</th>\n      <td>[0.22539113428943933, 0.18864468864468867, 0.1...</td>\n      <td>7</td>\n      <td>[0.1891356066613798, 0.26957070707070707, 0.21...</td>\n      <td>7</td>\n      <td>[0.19841628959276014, 0.19738854895104893, 0.2...</td>\n      <td>7</td>\n      <td>[0.23720810439560427, 0.1592242503259453, 0.28...</td>\n      <td>7</td>\n      <td>[0.24336538461538465, 0.14726928016635074, 0.1...</td>\n      <td>3</td>\n      <td>...</td>\n      <td>(0.9884002804756165, 0.9898721575737)</td>\n      <td>(0.7362639904022217, 0.009097964502871037)</td>\n      <td>(1.0431677782409738, 0.37268861276630866)</td>\n      <td>0.173929</td>\n      <td>0.209188</td>\n      <td>0.205300</td>\n      <td>(0.06662963488437487, 0, False)</td>\n      <td>0.066630</td>\n      <td>0</td>\n      <td>False</td>\n    </tr>\n    <tr>\n      <th>106</th>\n      <td>[0.09870279989725152]</td>\n      <td>1</td>\n      <td>[]</td>\n      <td>0</td>\n      <td>[]</td>\n      <td>0</td>\n      <td>[]</td>\n      <td>0</td>\n      <td>[]</td>\n      <td>0</td>\n      <td>...</td>\n      <td>(-1, -1)</td>\n      <td>(-1, -1)</td>\n      <td>(nan, nan)</td>\n      <td>0.098703</td>\n      <td>NaN</td>\n      <td>NaN</td>\n      <td>(nan, 0, True)</td>\n      <td>NaN</td>\n      <td>0</td>\n      <td>True</td>\n    </tr>\n    <tr>\n      <th>125</th>\n      <td>[0.15590734649122817, 0.02517338813254564, -0....</td>\n      <td>7</td>\n      <td>[0.04736842105263158, 0.10297880116959061, -0....</td>\n      <td>7</td>\n      <td>[0.052631578947368335, -0.06045969353764158, 0...</td>\n      <td>7</td>\n      <td>[]</td>\n      <td>0</td>\n      <td>[]</td>\n      <td>0</td>\n      <td>...</td>\n      <td>(0.9050085544586182, 0.3623952269554138)</td>\n      <td>(0.83884197473526, 0.0969165787100792)</td>\n      <td>(1.5331376172118225, 0.24275196819281272)</td>\n      <td>-0.009775</td>\n      <td>0.049283</td>\n      <td>0.017791</td>\n      <td>(0.09054912157218456, 1, True)</td>\n      <td>0.090549</td>\n      <td>1</td>\n      <td>True</td>\n    </tr>\n    <tr>\n      <th>129</th>\n      <td>[0.09340734649122817, 0.03987927048548682, 0.0...</td>\n      <td>7</td>\n      <td>[0.06842105263157895, 0.11339546783625727, 0.1...</td>\n      <td>7</td>\n      <td>[0.13905133203378808, 0.06612258494337107, 0.0...</td>\n      <td>7</td>\n      <td>[]</td>\n      <td>0</td>\n      <td>[]</td>\n      <td>0</td>\n      <td>...</td>\n      <td>(0.9363880753517151, 0.6064329147338867)</td>\n      <td>(0.9699529409408569, 0.8981099128723145)</td>\n      <td>(0.7336606132707865, 0.493965695653951)</td>\n      <td>0.032353</td>\n      <td>0.066436</td>\n      <td>0.030954</td>\n      <td>(0.0695644684628805, 1, True)</td>\n      <td>0.069564</td>\n      <td>1</td>\n      <td>True</td>\n    </tr>\n    <tr>\n      <th>150</th>\n      <td>[-0.028846153846153903, -0.03357753357753354, ...</td>\n      <td>7</td>\n      <td>[0.04480570975416329, 0.05744949494949495, 0.0...</td>\n      <td>7</td>\n      <td>[-0.09570135746606337, -0.029884178321678334, ...</td>\n      <td>7</td>\n      <td>[-0.35207760989011, -0.23060625814863095, -0.0...</td>\n      <td>7</td>\n      <td>[0.05105769230769233, 0.03883554522659171, -0....</td>\n      <td>3</td>\n      <td>...</td>\n      <td>(0.8689687252044678, 0.18180660903453827)</td>\n      <td>(0.8163676857948303, 0.059236958622932434)</td>\n      <td>(1.5892317397572528, 0.23142086391836075)</td>\n      <td>-0.061981</td>\n      <td>0.026107</td>\n      <td>-0.050495</td>\n      <td>(0.16469050475806385, 1, True)</td>\n      <td>0.164691</td>\n      <td>1</td>\n      <td>True</td>\n    </tr>\n    <tr>\n      <th>156</th>\n      <td>[0.18715734649122817, 0.05458515283842799, 0.0...</td>\n      <td>7</td>\n      <td>[0.19473684210526315, 0.14464546783625729, 0.1...</td>\n      <td>7</td>\n      <td>[0.06497725795971401, 0.18004663557628248, 0.1...</td>\n      <td>7</td>\n      <td>[]</td>\n      <td>0</td>\n      <td>[]</td>\n      <td>0</td>\n      <td>...</td>\n      <td>(0.9692533612251282, 0.893018901348114)</td>\n      <td>(0.9498113989830017, 0.7279818654060364)</td>\n      <td>(1.9805808143840102, 0.1669378329793336)</td>\n      <td>0.112947</td>\n      <td>0.145690</td>\n      <td>0.154072</td>\n      <td>(0.07386901516869149, 0, False)</td>\n      <td>0.073869</td>\n      <td>0</td>\n      <td>False</td>\n    </tr>\n    <tr>\n      <th>157</th>\n      <td>[-0.20346765350877183, -0.22482661186745437, -...</td>\n      <td>4</td>\n      <td>[-0.005263157894736842, -0.05327119883040939, ...</td>\n      <td>4</td>\n      <td>[-0.2189733593242366, -0.17438374417055297, -0...</td>\n      <td>4</td>\n      <td>[]</td>\n      <td>0</td>\n      <td>[]</td>\n      <td>0</td>\n      <td>...</td>\n      <td>(0.9267513751983643, 0.5754396915435791)</td>\n      <td>(0.9764564037322998, 0.8809529542922974)</td>\n      <td>(0.6704324099644505, 0.5352854251376623)</td>\n      <td>-0.179273</td>\n      <td>-0.059385</td>\n      <td>-0.260365</td>\n      <td>(0.32086844163883654, 1, True)</td>\n      <td>0.320868</td>\n      <td>1</td>\n      <td>True</td>\n    </tr>\n    <tr>\n      <th>159</th>\n      <td>[-0.09409265350877183, 0.03987927048548682, 0....</td>\n      <td>4</td>\n      <td>[0.005263157894736842, -0.0011878654970760572,...</td>\n      <td>4</td>\n      <td>[-0.10786224821312548, -0.07311792138574284, -...</td>\n      <td>4</td>\n      <td>[]</td>\n      <td>0</td>\n      <td>[]</td>\n      <td>0</td>\n      <td>...</td>\n      <td>(0.8008828163146973, 0.10381238907575607)</td>\n      <td>(0.9476038217544556, 0.701181948184967)</td>\n      <td>(7.260120636303637, 0.013261825722516447)</td>\n      <td>-0.033616</td>\n      <td>0.025346</td>\n      <td>-0.072768</td>\n      <td>(0.15707542418095233, 1, True)</td>\n      <td>0.157075</td>\n      <td>1</td>\n      <td>True</td>\n    </tr>\n    <tr>\n      <th>167</th>\n      <td>[-0.06284265350877183, -0.1365913177498073, 0....</td>\n      <td>7</td>\n      <td>[-0.02631578947368421, 0.09256213450292394, 0....</td>\n      <td>7</td>\n      <td>[-0.10786224821312548, -0.06045969353764158, 0...</td>\n      <td>7</td>\n      <td>[]</td>\n      <td>0</td>\n      <td>[]</td>\n      <td>0</td>\n      <td>...</td>\n      <td>(0.9470332860946655, 0.702638566493988)</td>\n      <td>(0.8888747096061707, 0.26884475350379944)</td>\n      <td>(0.9770293877494436, 0.39552261632922403)</td>\n      <td>-0.011413</td>\n      <td>0.021612</td>\n      <td>-0.034868</td>\n      <td>(0.08950445299889973, 1, True)</td>\n      <td>0.089504</td>\n      <td>1</td>\n      <td>True</td>\n    </tr>\n    <tr>\n      <th>168</th>\n      <td>[0.07778234649122817, 0.06929103519136917, 0.0...</td>\n      <td>4</td>\n      <td>[0.18421052631578946, 0.1342288011695906, 0.08...</td>\n      <td>4</td>\n      <td>[0.015594541910331302, -0.022485009993337784, ...</td>\n      <td>4</td>\n      <td>[]</td>\n      <td>0</td>\n      <td>[]</td>\n      <td>0</td>\n      <td>...</td>\n      <td>(0.9041651487350464, 0.45204100012779236)</td>\n      <td>(0.9959912896156311, 0.9857235550880432)</td>\n      <td>(0.029792307033866955, 0.9707424188431039)</td>\n      <td>0.074612</td>\n      <td>0.123351</td>\n      <td>0.031427</td>\n      <td>(0.14066266647134879, 1, True)</td>\n      <td>0.140663</td>\n      <td>1</td>\n      <td>True</td>\n    </tr>\n    <tr>\n      <th>171</th>\n      <td>[-0.07846765350877183, -0.01894425892627789, -...</td>\n      <td>4</td>\n      <td>[-0.1736842105263158, -0.1782711988304094, -0....</td>\n      <td>4</td>\n      <td>[-0.16959064327485388, -0.22501665556295805, -...</td>\n      <td>4</td>\n      <td>[]</td>\n      <td>0</td>\n      <td>[]</td>\n      <td>0</td>\n      <td>...</td>\n      <td>(0.7178722620010376, 0.018394356593489647)</td>\n      <td>(0.9257822632789612, 0.5698369741439819)</td>\n      <td>(0.25823353792152826, 0.7779477340049266)</td>\n      <td>-0.077962</td>\n      <td>-0.157374</td>\n      <td>-0.169994</td>\n      <td>(0.17144229123157897, 0, True)</td>\n      <td>0.171442</td>\n      <td>0</td>\n      <td>True</td>\n    </tr>\n    <tr>\n      <th>182</th>\n      <td>[-0.14749022164276407, -0.03357753357753354, -...</td>\n      <td>6</td>\n      <td>[-0.18199841395717692, -0.3162878787878788, -0...</td>\n      <td>6</td>\n      <td>[-0.0015837104072398448, 0.04966127622377621, ...</td>\n      <td>6</td>\n      <td>[-0.15564903846153857, -0.07806388526727502, -...</td>\n      <td>6</td>\n      <td>[-0.14125, -0.17803192465292636]</td>\n      <td>2</td>\n      <td>...</td>\n      <td>(0.889032244682312, 0.3131483495235443)</td>\n      <td>(0.7778171300888062, 0.03677834942936897)</td>\n      <td>(0.6336070790871088, 0.5442965247307103)</td>\n      <td>-0.079750</td>\n      <td>-0.270227</td>\n      <td>0.027701</td>\n      <td>(0.48840401327800215, 1, False)</td>\n      <td>0.488404</td>\n      <td>1</td>\n      <td>False</td>\n    </tr>\n    <tr>\n      <th>183</th>\n      <td>[0.015282346491228171, -0.04835602363216024, 0...</td>\n      <td>4</td>\n      <td>[0.04736842105263158, 0.06131213450292394, 0.1...</td>\n      <td>4</td>\n      <td>[0.003248862897985622, -0.047801465689540315, ...</td>\n      <td>4</td>\n      <td>[]</td>\n      <td>0</td>\n      <td>[]</td>\n      <td>0</td>\n      <td>...</td>\n      <td>(0.9095839858055115, 0.48020070791244507)</td>\n      <td>(0.7614673376083374, 0.04916432872414589)</td>\n      <td>(0.8627692527483257, 0.4541562694448428)</td>\n      <td>0.024233</td>\n      <td>0.098445</td>\n      <td>-0.032488</td>\n      <td>(0.20514428941220153, 1, True)</td>\n      <td>0.205144</td>\n      <td>1</td>\n      <td>True</td>\n    </tr>\n    <tr>\n      <th>184</th>\n      <td>[-0.04721765350877183, -0.0777677883380426, -0...</td>\n      <td>4</td>\n      <td>[0.1, -0.02202119883040939, 0.0059488692232054...</td>\n      <td>4</td>\n      <td>[-0.13255360623781684, -0.14906728847435044, -...</td>\n      <td>4</td>\n      <td>[]</td>\n      <td>0</td>\n      <td>[]</td>\n      <td>0</td>\n      <td>...</td>\n      <td>(0.9611393213272095, 0.7860771417617798)</td>\n      <td>(0.8541573882102966, 0.23991063237190247)</td>\n      <td>(0.6407179015290695, 0.5493502618218095)</td>\n      <td>-0.075240</td>\n      <td>0.030055</td>\n      <td>-0.120345</td>\n      <td>(0.25569557494527206, 1, True)</td>\n      <td>0.255696</td>\n      <td>1</td>\n      <td>True</td>\n    </tr>\n    <tr>\n      <th>186</th>\n      <td>[-0.15659265350877183, 0.010467505779604465, -...</td>\n      <td>7</td>\n      <td>[-0.04736842105263158, -0.1782711988304094, -0...</td>\n      <td>7</td>\n      <td>[-0.1572449642625082, -0.1364090606262492, -0....</td>\n      <td>7</td>\n      <td>[]</td>\n      <td>0</td>\n      <td>[]</td>\n      <td>0</td>\n      <td>...</td>\n      <td>(0.9748400449752808, 0.9309514164924622)</td>\n      <td>(0.9134905934333801, 0.4205709397792816)</td>\n      <td>(0.175935881039036, 0.8400966509837424)</td>\n      <td>-0.098889</td>\n      <td>-0.122791</td>\n      <td>-0.205188</td>\n      <td>(0.1886959891483253, 2, False)</td>\n      <td>0.188696</td>\n      <td>2</td>\n      <td>False</td>\n    </tr>\n    <tr>\n      <th>188</th>\n      <td>[-0.06284265350877183, -0.04835602363216024, 0...</td>\n      <td>7</td>\n      <td>[-0.07894736842105263, -0.02202119883040939, -...</td>\n      <td>7</td>\n      <td>[0.003248862897985622, -0.022485009993337784, ...</td>\n      <td>7</td>\n      <td>[]</td>\n      <td>0</td>\n      <td>[]</td>\n      <td>0</td>\n      <td>...</td>\n      <td>(0.9515592455863953, 0.7438694834709167)</td>\n      <td>(0.884905219078064, 0.24912680685520172)</td>\n      <td>(0.07676560404273747, 0.9264084347909378)</td>\n      <td>0.043908</td>\n      <td>-0.032591</td>\n      <td>0.050694</td>\n      <td>(0.15978445239778788, 1, False)</td>\n      <td>0.159784</td>\n      <td>1</td>\n      <td>False</td>\n    </tr>\n    <tr>\n      <th>189</th>\n      <td>[-0.09409265350877183, -0.033650141279219066, ...</td>\n      <td>7</td>\n      <td>[-0.20526315789473684, -0.04285453216374272, 0...</td>\n      <td>7</td>\n      <td>[-0.1572449642625082, -0.22501665556295805, -0...</td>\n      <td>7</td>\n      <td>[]</td>\n      <td>0</td>\n      <td>[]</td>\n      <td>0</td>\n      <td>...</td>\n      <td>(0.96474289894104, 0.8582416772842407)</td>\n      <td>(0.9625694751739502, 0.8404532074928284)</td>\n      <td>(1.868739791541514, 0.18305005429251897)</td>\n      <td>-0.038201</td>\n      <td>-0.050859</td>\n      <td>-0.179733</td>\n      <td>(0.27040623766729244, 2, False)</td>\n      <td>0.270406</td>\n      <td>2</td>\n      <td>False</td>\n    </tr>\n    <tr>\n      <th>197</th>\n      <td>[-0.01596765350877183, 0.010467505779604465, -...</td>\n      <td>7</td>\n      <td>[0.08947368421052632, 0.04047880116959061, 0.0...</td>\n      <td>7</td>\n      <td>[-0.1572449642625082, -0.11109260493004665, -0...</td>\n      <td>7</td>\n      <td>[]</td>\n      <td>0</td>\n      <td>[]</td>\n      <td>0</td>\n      <td>...</td>\n      <td>(0.9613876938819885, 0.8305485248565674)</td>\n      <td>(0.8796296715736389, 0.22480925917625427)</td>\n      <td>(1.721801654011652, 0.20690580029631683)</td>\n      <td>-0.066441</td>\n      <td>0.061341</td>\n      <td>-0.140080</td>\n      <td>(0.32920435255824726, 1, True)</td>\n      <td>0.329204</td>\n      <td>1</td>\n      <td>True</td>\n    </tr>\n    <tr>\n      <th>199</th>\n      <td>[-0.12534265350877183, -0.004238376573336713, ...</td>\n      <td>7</td>\n      <td>[-0.03684210526315789, -0.16785453216374271, -...</td>\n      <td>7</td>\n      <td>[-0.14489928525016252, -0.1364090606262492, -0...</td>\n      <td>7</td>\n      <td>[]</td>\n      <td>0</td>\n      <td>[]</td>\n      <td>0</td>\n      <td>...</td>\n      <td>(0.9325746893882751, 0.5730037093162537)</td>\n      <td>(0.9519096612930298, 0.7470459938049316)</td>\n      <td>(0.2616784476567299, 0.7726366329738468)</td>\n      <td>-0.062832</td>\n      <td>-0.061199</td>\n      <td>-0.164151</td>\n      <td>(0.20427140508021058, 2, False)</td>\n      <td>0.204271</td>\n      <td>2</td>\n      <td>False</td>\n    </tr>\n    <tr>\n      <th>201</th>\n      <td>[0.015282346491228171, 0.09870279989725152, 0....</td>\n      <td>7</td>\n      <td>[-0.14210526315789473, -0.19910453216374271, -...</td>\n      <td>7</td>\n      <td>[-0.04613385315139709, 0.015489673550966013, -...</td>\n      <td>7</td>\n      <td>[]</td>\n      <td>0</td>\n      <td>[]</td>\n      <td>0</td>\n      <td>...</td>\n      <td>(0.8863075971603394, 0.25595080852508545)</td>\n      <td>(0.9328658580780029, 0.5755283236503601)</td>\n      <td>(1.031358244657682, 0.37665602704542295)</td>\n      <td>-0.002689</td>\n      <td>-0.200782</td>\n      <td>-0.022386</td>\n      <td>(0.3764896504613274, 1, False)</td>\n      <td>0.376490</td>\n      <td>1</td>\n      <td>False</td>\n    </tr>\n    <tr>\n      <th>205</th>\n      <td>[-0.15659265350877183, -0.0777677883380426, -0...</td>\n      <td>7</td>\n      <td>[-0.3, -0.19910453216374271, -0.13849557522123...</td>\n      <td>7</td>\n      <td>[-0.3918128654970761, -0.3389407061958694, -0....</td>\n      <td>7</td>\n      <td>[]</td>\n      <td>0</td>\n      <td>[]</td>\n      <td>0</td>\n      <td>...</td>\n      <td>(0.9239739179611206, 0.5008918642997742)</td>\n      <td>(0.8795346617698669, 0.22439049184322357)</td>\n      <td>(1.1288225910752967, 0.34526448295566914)</td>\n      <td>-0.177324</td>\n      <td>-0.264705</td>\n      <td>-0.454805</td>\n      <td>(0.4675803535259913, 2, False)</td>\n      <td>0.467580</td>\n      <td>2</td>\n      <td>False</td>\n    </tr>\n    <tr>\n      <th>206</th>\n      <td>[-0.12534265350877183, -0.12188543539686612]</td>\n      <td>2</td>\n      <td>[-0.32105263157894737, -0.23035453216374271]</td>\n      <td>2</td>\n      <td>[-0.26835607537361933, -0.2503331112591606]</td>\n      <td>2</td>\n      <td>[]</td>\n      <td>0</td>\n      <td>[]</td>\n      <td>0</td>\n      <td>...</td>\n      <td>(-1, -1)</td>\n      <td>(-1, -1)</td>\n      <td>(1.6200964625600406e+30, 8.908930643929517e-46)</td>\n      <td>-0.123614</td>\n      <td>-0.275704</td>\n      <td>-0.259345</td>\n      <td>(0.287820086282097, 0, True)</td>\n      <td>0.287820</td>\n      <td>0</td>\n      <td>True</td>\n    </tr>\n    <tr>\n      <th>210</th>\n      <td>[-0.20346765350877183, -0.10717955304392494, -...</td>\n      <td>7</td>\n      <td>[-0.1, -0.19910453216374271, -0.09405113077679...</td>\n      <td>7</td>\n      <td>[-0.2066276803118909, -0.12375083277814791, -0...</td>\n      <td>7</td>\n      <td>[]</td>\n      <td>0</td>\n      <td>[]</td>\n      <td>0</td>\n      <td>...</td>\n      <td>(0.8600993752479553, 0.1517004519701004)</td>\n      <td>(0.9429721832275391, 0.6656192541122437)</td>\n      <td>(1.292411669611513, 0.298901605762832)</td>\n      <td>-0.172016</td>\n      <td>-0.140856</td>\n      <td>-0.111636</td>\n      <td>(0.09154062253766151, 0, False)</td>\n      <td>0.091541</td>\n      <td>0</td>\n      <td>False</td>\n    </tr>\n    <tr>\n      <th>211</th>\n      <td>[0.03090734649122817, -0.0777677883380426, -0....</td>\n      <td>7</td>\n      <td>[0.06842105263157895, -0.05327119883040939, -0...</td>\n      <td>6</td>\n      <td>[-0.05847953216374277, -0.022485009993337784, ...</td>\n      <td>7</td>\n      <td>[]</td>\n      <td>0</td>\n      <td>[]</td>\n      <td>0</td>\n      <td>...</td>\n      <td>(0.8398475646972656, 0.12998627126216888)</td>\n      <td>(0.8932361006736755, 0.2919723689556122)</td>\n      <td>(0.3226084753577738, 0.7285952086151435)</td>\n      <td>-0.081631</td>\n      <td>-0.045946</td>\n      <td>-0.036492</td>\n      <td>(0.08082440857124722, 0, False)</td>\n      <td>0.080824</td>\n      <td>0</td>\n      <td>False</td>\n    </tr>\n    <tr>\n      <th>212</th>\n      <td>[-0.7659676535087718, -0.7542383765733367, -0....</td>\n      <td>3</td>\n      <td>[-0.8052631578947368, -0.7824378654970761, -0....</td>\n      <td>3</td>\n      <td>[-0.7498375568551008, -0.7440039973351099, -0....</td>\n      <td>3</td>\n      <td>[]</td>\n      <td>0</td>\n      <td>[]</td>\n      <td>0</td>\n      <td>...</td>\n      <td>(0.926732063293457, 0.47650691866874695)</td>\n      <td>(0.9425391554832458, 0.5376849174499512)</td>\n      <td>(1.5490755775152036, 0.28681001196937145)</td>\n      <td>-0.766101</td>\n      <td>-0.767991</td>\n      <td>-0.745169</td>\n      <td>(0.04375483467326069, 2, True)</td>\n      <td>0.043755</td>\n      <td>2</td>\n      <td>True</td>\n    </tr>\n    <tr>\n      <th>214</th>\n      <td>[0.12465734649122817, 0.1134086822501927, 0.04...</td>\n      <td>4</td>\n      <td>[-0.07894736842105263, -0.07410453216374273, -...</td>\n      <td>4</td>\n      <td>[-0.04613385315139709, -0.22501665556295805, -...</td>\n      <td>4</td>\n      <td>[]</td>\n      <td>0</td>\n      <td>[]</td>\n      <td>0</td>\n      <td>...</td>\n      <td>(0.937450647354126, 0.6388441324234009)</td>\n      <td>(0.8678609728813171, 0.2893774211406708)</td>\n      <td>(5.462797998982652, 0.027973084042718626)</td>\n      <td>0.075993</td>\n      <td>-0.082892</td>\n      <td>-0.113829</td>\n      <td>(0.34870580769304427, 0, True)</td>\n      <td>0.348706</td>\n      <td>0</td>\n      <td>True</td>\n    </tr>\n    <tr>\n      <th>215</th>\n      <td>[-0.01596765350877183, 0.06929103519136917, 0....</td>\n      <td>4</td>\n      <td>[-0.015789473684210527, -0.06368786549707606, ...</td>\n      <td>4</td>\n      <td>[-0.07082521117608845, -0.09843437708194538, -...</td>\n      <td>4</td>\n      <td>[]</td>\n      <td>0</td>\n      <td>[]</td>\n      <td>0</td>\n      <td>...</td>\n      <td>(0.9032293558120728, 0.44727635383605957)</td>\n      <td>(0.7948793172836304, 0.09334926307201385)</td>\n      <td>(0.2051672199829683, 0.8182170588768458)</td>\n      <td>-0.018697</td>\n      <td>-0.058851</td>\n      <td>-0.056274</td>\n      <td>(0.07772991492538855, 0, True)</td>\n      <td>0.077730</td>\n      <td>0</td>\n      <td>True</td>\n    </tr>\n    <tr>\n      <th>221</th>\n      <td>[-0.20346765350877183, -0.06306190598510142, -...</td>\n      <td>7</td>\n      <td>[-0.2578947368421053, -0.42827119883040937, -0...</td>\n      <td>7</td>\n      <td>[-0.4411955815464588, -0.3515989340439707, -0....</td>\n      <td>7</td>\n      <td>[]</td>\n      <td>0</td>\n      <td>[]</td>\n      <td>0</td>\n      <td>...</td>\n      <td>(0.9205396175384521, 0.4735959768295288)</td>\n      <td>(0.9140307903289795, 0.42448660731315613)</td>\n      <td>(0.8679292124553496, 0.4366649727106638)</td>\n      <td>-0.234113</td>\n      <td>-0.534506</td>\n      <td>-0.499837</td>\n      <td>(0.5661168326163641, 0, True)</td>\n      <td>0.566117</td>\n      <td>0</td>\n      <td>True</td>\n    </tr>\n    <tr>\n      <th>227</th>\n      <td>[-0.04721765350877183, -0.033650141279219066, ...</td>\n      <td>7</td>\n      <td>[-0.12105263157894737, -0.07410453216374273, -...</td>\n      <td>7</td>\n      <td>[-0.07082521117608845, -0.009826782145236518, ...</td>\n      <td>7</td>\n      <td>[]</td>\n      <td>0</td>\n      <td>[]</td>\n      <td>0</td>\n      <td>...</td>\n      <td>(0.9775677919387817, 0.9469218254089355)</td>\n      <td>(0.9390760064125061, 0.630411684513092)</td>\n      <td>(1.6485981778351229, 0.22006482499787317)</td>\n      <td>-0.067355</td>\n      <td>-0.121120</td>\n      <td>-0.046428</td>\n      <td>(0.1284568288574363, 1, False)</td>\n      <td>0.128457</td>\n      <td>1</td>\n      <td>False</td>\n    </tr>\n    <tr>\n      <th>229</th>\n      <td>[-0.04721765350877183, -0.0777677883380426, -0...</td>\n      <td>4</td>\n      <td>[-0.005263157894736842, -0.08452119883040939, ...</td>\n      <td>4</td>\n      <td>[-0.1572449642625082, -0.12375083277814791, -0...</td>\n      <td>4</td>\n      <td>[]</td>\n      <td>0</td>\n      <td>[]</td>\n      <td>0</td>\n      <td>...</td>\n      <td>(0.9914299845695496, 0.9646774530410767)</td>\n      <td>(0.9790673851966858, 0.8965270519256592)</td>\n      <td>(1.8329347783363326, 0.21489867757582815)</td>\n      <td>-0.057933</td>\n      <td>-0.105689</td>\n      <td>-0.097569</td>\n      <td>(0.08739231335532431, 0, True)</td>\n      <td>0.087392</td>\n      <td>0</td>\n      <td>True</td>\n    </tr>\n    <tr>\n      <th>234</th>\n      <td>[-0.17221765350877183, -0.033650141279219066, ...</td>\n      <td>7</td>\n      <td>[-0.19473684210526315, -0.19910453216374271, -...</td>\n      <td>7</td>\n      <td>[-0.03378817413905141, 0.0914390406395736, -0....</td>\n      <td>7</td>\n      <td>[]</td>\n      <td>0</td>\n      <td>[]</td>\n      <td>0</td>\n      <td>...</td>\n      <td>(0.9239782691001892, 0.5009269118309021)</td>\n      <td>(0.9689463973045349, 0.8907569646835327)</td>\n      <td>(0.2865256628373195, 0.7542289809209275)</td>\n      <td>-0.051255</td>\n      <td>-0.199434</td>\n      <td>-0.004709</td>\n      <td>(0.34290309827375076, 1, False)</td>\n      <td>0.342903</td>\n      <td>1</td>\n      <td>False</td>\n    </tr>\n    <tr>\n      <th>235</th>\n      <td>[0.015282346491228171, -0.01894425892627789, 0...</td>\n      <td>7</td>\n      <td>[-0.18421052631578946, -0.15743786549707606, 0...</td>\n      <td>7</td>\n      <td>[0.003248862897985622, 0.015489673550966013, 0...</td>\n      <td>7</td>\n      <td>[]</td>\n      <td>0</td>\n      <td>[]</td>\n      <td>0</td>\n      <td>...</td>\n      <td>(0.9387817978858948, 0.6277729868888855)</td>\n      <td>(0.7503499984741211, 0.012795010581612587)</td>\n      <td>(5.8546350932839655, 0.011000810794135238)</td>\n      <td>0.009738</td>\n      <td>-0.084382</td>\n      <td>0.025237</td>\n      <td>(0.20373915567209117, 1, False)</td>\n      <td>0.203739</td>\n      <td>1</td>\n      <td>False</td>\n    </tr>\n    <tr>\n      <th>240</th>\n      <td>[-0.06284265350877183, -0.18070896480863083, -...</td>\n      <td>7</td>\n      <td>[-0.005263157894736842, -0.10535453216374273, ...</td>\n      <td>7</td>\n      <td>[-0.31773879142300204, -0.37691538974017325, -...</td>\n      <td>7</td>\n      <td>[]</td>\n      <td>0</td>\n      <td>[]</td>\n      <td>0</td>\n      <td>...</td>\n      <td>(0.9318311214447021, 0.5665789842605591)</td>\n      <td>(0.9810584783554077, 0.9645172953605652)</td>\n      <td>(0.49324300129026427, 0.6186588144001129)</td>\n      <td>-0.060083</td>\n      <td>-0.113906</td>\n      <td>-0.271337</td>\n      <td>(0.36868410756388154, 2, False)</td>\n      <td>0.368684</td>\n      <td>2</td>\n      <td>False</td>\n    </tr>\n  </tbody>\n</table>\n<p>38 rows × 21 columns</p>\n</div>"
     },
     "metadata": {},
     "execution_count": 51
    }
   ],
   "source": [
    "mergeData[(mergeData['CHILen']<8) | (mergeData['MATHLen']<8) | (mergeData['ENGLen']<8)]"
   ]
  },
  {
   "cell_type": "code",
   "execution_count": null,
   "metadata": {},
   "outputs": [],
   "source": []
  }
 ],
 "metadata": {
  "language_info": {
   "codemirror_mode": {
    "name": "ipython",
    "version": 3
   },
   "file_extension": ".py",
   "mimetype": "text/x-python",
   "name": "python",
   "nbconvert_exporter": "python",
   "pygments_lexer": "ipython3",
   "version": "3.7.6-final"
  },
  "orig_nbformat": 2,
  "kernelspec": {
   "name": "python3",
   "display_name": "Python 3"
  }
 },
 "nbformat": 4,
 "nbformat_minor": 2
}